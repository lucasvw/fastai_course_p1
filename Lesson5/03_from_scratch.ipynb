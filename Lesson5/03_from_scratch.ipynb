{
 "cells": [
  {
   "cell_type": "code",
   "execution_count": 1,
   "id": "a9939aaa-a812-41f7-9d45-6b2952aa5de7",
   "metadata": {},
   "outputs": [
    {
     "name": "stdout",
     "output_type": "stream",
     "text": [
      "Downloading titanic.zip to /root/titanic\n"
     ]
    },
    {
     "name": "stderr",
     "output_type": "stream",
     "text": [
      "100%|██████████| 34.1k/34.1k [00:00<00:00, 1.39MB/s]"
     ]
    },
    {
     "name": "stdout",
     "output_type": "stream",
     "text": [
      "\n"
     ]
    },
    {
     "name": "stderr",
     "output_type": "stream",
     "text": [
      "\n"
     ]
    }
   ],
   "source": [
    "import os\n",
    "from pathlib import Path\n",
    "\n",
    "iskaggle = os.environ.get('KAGGLE_KERNEL_RUN_TYPE', '')\n",
    "if iskaggle: path = Path('../input/titanic')\n",
    "else:\n",
    "    competition = 'titanic'\n",
    "    path = Path(f'/root/{competition}')\n",
    "    if not path.exists():\n",
    "        import zipfile,kaggle\n",
    "        kaggle.api.competition_download_cli(competition, path=path)\n",
    "        zipfile.ZipFile(f'{path}/titanic.zip').extractall(path)"
   ]
  },
  {
   "cell_type": "code",
   "execution_count": 2,
   "id": "d4036960-6881-4ae4-a9c8-a0bfa7672047",
   "metadata": {},
   "outputs": [],
   "source": [
    "import torch, numpy as np, pandas as pd\n",
    "np.set_printoptions(linewidth=140)\n",
    "torch.set_printoptions(linewidth=140, sci_mode=False, edgeitems=7)\n",
    "pd.set_option('display.width', 140)"
   ]
  },
  {
   "cell_type": "code",
   "execution_count": 3,
   "id": "9b62e392-7007-4ba2-b296-158c8d2923d1",
   "metadata": {},
   "outputs": [
    {
     "name": "stdout",
     "output_type": "stream",
     "text": [
      "gender_submission.csv  test.csv  titanic.zip  train.csv\n"
     ]
    }
   ],
   "source": [
    "!ls {path}"
   ]
  },
  {
   "cell_type": "code",
   "execution_count": 4,
   "id": "8ce60768-cc1e-4707-96c2-09228ba5e826",
   "metadata": {},
   "outputs": [],
   "source": [
    "train_df = pd.read_csv(path/'train.csv')"
   ]
  },
  {
   "cell_type": "code",
   "execution_count": 5,
   "id": "581ccc27-b97d-4878-9d1f-84c811429996",
   "metadata": {},
   "outputs": [
    {
     "data": {
      "text/html": [
       "<div>\n",
       "<style scoped>\n",
       "    .dataframe tbody tr th:only-of-type {\n",
       "        vertical-align: middle;\n",
       "    }\n",
       "\n",
       "    .dataframe tbody tr th {\n",
       "        vertical-align: top;\n",
       "    }\n",
       "\n",
       "    .dataframe thead th {\n",
       "        text-align: right;\n",
       "    }\n",
       "</style>\n",
       "<table border=\"1\" class=\"dataframe\">\n",
       "  <thead>\n",
       "    <tr style=\"text-align: right;\">\n",
       "      <th></th>\n",
       "      <th>PassengerId</th>\n",
       "      <th>Survived</th>\n",
       "      <th>Pclass</th>\n",
       "      <th>Name</th>\n",
       "      <th>Sex</th>\n",
       "      <th>Age</th>\n",
       "      <th>SibSp</th>\n",
       "      <th>Parch</th>\n",
       "      <th>Ticket</th>\n",
       "      <th>Fare</th>\n",
       "      <th>Cabin</th>\n",
       "      <th>Embarked</th>\n",
       "    </tr>\n",
       "  </thead>\n",
       "  <tbody>\n",
       "    <tr>\n",
       "      <th>0</th>\n",
       "      <td>1</td>\n",
       "      <td>0</td>\n",
       "      <td>3</td>\n",
       "      <td>Braund, Mr. Owen Harris</td>\n",
       "      <td>male</td>\n",
       "      <td>22.0</td>\n",
       "      <td>1</td>\n",
       "      <td>0</td>\n",
       "      <td>A/5 21171</td>\n",
       "      <td>7.2500</td>\n",
       "      <td>NaN</td>\n",
       "      <td>S</td>\n",
       "    </tr>\n",
       "    <tr>\n",
       "      <th>1</th>\n",
       "      <td>2</td>\n",
       "      <td>1</td>\n",
       "      <td>1</td>\n",
       "      <td>Cumings, Mrs. John Bradley (Florence Briggs Th...</td>\n",
       "      <td>female</td>\n",
       "      <td>38.0</td>\n",
       "      <td>1</td>\n",
       "      <td>0</td>\n",
       "      <td>PC 17599</td>\n",
       "      <td>71.2833</td>\n",
       "      <td>C85</td>\n",
       "      <td>C</td>\n",
       "    </tr>\n",
       "  </tbody>\n",
       "</table>\n",
       "</div>"
      ],
      "text/plain": [
       "   PassengerId  Survived  Pclass                                               Name     Sex   Age  SibSp  Parch     Ticket     Fare Cabin  \\\n",
       "0            1         0       3                            Braund, Mr. Owen Harris    male  22.0      1      0  A/5 21171   7.2500   NaN   \n",
       "1            2         1       1  Cumings, Mrs. John Bradley (Florence Briggs Th...  female  38.0      1      0   PC 17599  71.2833   C85   \n",
       "\n",
       "  Embarked  \n",
       "0        S  \n",
       "1        C  "
      ]
     },
     "execution_count": 5,
     "metadata": {},
     "output_type": "execute_result"
    }
   ],
   "source": [
    "train_df.head(2)"
   ]
  },
  {
   "cell_type": "markdown",
   "id": "a8cab6d9-9b9a-4961-a8f1-36b021d4924c",
   "metadata": {},
   "source": [
    "### Missing data"
   ]
  },
  {
   "cell_type": "code",
   "execution_count": 6,
   "id": "d699b5a8-cef1-4388-8d3d-7f0fc17b63b7",
   "metadata": {},
   "outputs": [
    {
     "data": {
      "text/plain": [
       "PassengerId      0\n",
       "Survived         0\n",
       "Pclass           0\n",
       "Name             0\n",
       "Sex              0\n",
       "Age            177\n",
       "SibSp            0\n",
       "Parch            0\n",
       "Ticket           0\n",
       "Fare             0\n",
       "Cabin          687\n",
       "Embarked         2\n",
       "dtype: int64"
      ]
     },
     "execution_count": 6,
     "metadata": {},
     "output_type": "execute_result"
    }
   ],
   "source": [
    "train_df.isna().sum()"
   ]
  },
  {
   "cell_type": "code",
   "execution_count": 7,
   "id": "1524e707-2400-4833-9a39-c99aa9d41149",
   "metadata": {},
   "outputs": [],
   "source": [
    "modes = train_df.mode().loc[0]"
   ]
  },
  {
   "cell_type": "code",
   "execution_count": 8,
   "id": "44f262b8-1dba-4676-9848-8154aded5f2f",
   "metadata": {},
   "outputs": [],
   "source": [
    "train_df.fillna(modes, inplace=True)"
   ]
  },
  {
   "cell_type": "code",
   "execution_count": 9,
   "id": "d83bd739-3938-4fdd-8602-ac1b9f8e57b0",
   "metadata": {},
   "outputs": [
    {
     "data": {
      "text/plain": [
       "PassengerId    0\n",
       "Survived       0\n",
       "Pclass         0\n",
       "Name           0\n",
       "Sex            0\n",
       "Age            0\n",
       "SibSp          0\n",
       "Parch          0\n",
       "Ticket         0\n",
       "Fare           0\n",
       "Cabin          0\n",
       "Embarked       0\n",
       "dtype: int64"
      ]
     },
     "execution_count": 9,
     "metadata": {},
     "output_type": "execute_result"
    }
   ],
   "source": [
    "train_df.isna().sum()"
   ]
  },
  {
   "cell_type": "code",
   "execution_count": 10,
   "id": "16463984-e552-45f8-956b-827e24345592",
   "metadata": {},
   "outputs": [
    {
     "data": {
      "text/html": [
       "<div>\n",
       "<style scoped>\n",
       "    .dataframe tbody tr th:only-of-type {\n",
       "        vertical-align: middle;\n",
       "    }\n",
       "\n",
       "    .dataframe tbody tr th {\n",
       "        vertical-align: top;\n",
       "    }\n",
       "\n",
       "    .dataframe thead th {\n",
       "        text-align: right;\n",
       "    }\n",
       "</style>\n",
       "<table border=\"1\" class=\"dataframe\">\n",
       "  <thead>\n",
       "    <tr style=\"text-align: right;\">\n",
       "      <th></th>\n",
       "      <th>PassengerId</th>\n",
       "      <th>Survived</th>\n",
       "      <th>Pclass</th>\n",
       "      <th>Age</th>\n",
       "      <th>SibSp</th>\n",
       "      <th>Parch</th>\n",
       "      <th>Fare</th>\n",
       "    </tr>\n",
       "  </thead>\n",
       "  <tbody>\n",
       "    <tr>\n",
       "      <th>count</th>\n",
       "      <td>891.000000</td>\n",
       "      <td>891.000000</td>\n",
       "      <td>891.000000</td>\n",
       "      <td>891.000000</td>\n",
       "      <td>891.000000</td>\n",
       "      <td>891.000000</td>\n",
       "      <td>891.000000</td>\n",
       "    </tr>\n",
       "    <tr>\n",
       "      <th>mean</th>\n",
       "      <td>446.000000</td>\n",
       "      <td>0.383838</td>\n",
       "      <td>2.308642</td>\n",
       "      <td>28.566970</td>\n",
       "      <td>0.523008</td>\n",
       "      <td>0.381594</td>\n",
       "      <td>32.204208</td>\n",
       "    </tr>\n",
       "    <tr>\n",
       "      <th>std</th>\n",
       "      <td>257.353842</td>\n",
       "      <td>0.486592</td>\n",
       "      <td>0.836071</td>\n",
       "      <td>13.199572</td>\n",
       "      <td>1.102743</td>\n",
       "      <td>0.806057</td>\n",
       "      <td>49.693429</td>\n",
       "    </tr>\n",
       "    <tr>\n",
       "      <th>min</th>\n",
       "      <td>1.000000</td>\n",
       "      <td>0.000000</td>\n",
       "      <td>1.000000</td>\n",
       "      <td>0.420000</td>\n",
       "      <td>0.000000</td>\n",
       "      <td>0.000000</td>\n",
       "      <td>0.000000</td>\n",
       "    </tr>\n",
       "    <tr>\n",
       "      <th>25%</th>\n",
       "      <td>223.500000</td>\n",
       "      <td>0.000000</td>\n",
       "      <td>2.000000</td>\n",
       "      <td>22.000000</td>\n",
       "      <td>0.000000</td>\n",
       "      <td>0.000000</td>\n",
       "      <td>7.910400</td>\n",
       "    </tr>\n",
       "    <tr>\n",
       "      <th>50%</th>\n",
       "      <td>446.000000</td>\n",
       "      <td>0.000000</td>\n",
       "      <td>3.000000</td>\n",
       "      <td>24.000000</td>\n",
       "      <td>0.000000</td>\n",
       "      <td>0.000000</td>\n",
       "      <td>14.454200</td>\n",
       "    </tr>\n",
       "    <tr>\n",
       "      <th>75%</th>\n",
       "      <td>668.500000</td>\n",
       "      <td>1.000000</td>\n",
       "      <td>3.000000</td>\n",
       "      <td>35.000000</td>\n",
       "      <td>1.000000</td>\n",
       "      <td>0.000000</td>\n",
       "      <td>31.000000</td>\n",
       "    </tr>\n",
       "    <tr>\n",
       "      <th>max</th>\n",
       "      <td>891.000000</td>\n",
       "      <td>1.000000</td>\n",
       "      <td>3.000000</td>\n",
       "      <td>80.000000</td>\n",
       "      <td>8.000000</td>\n",
       "      <td>6.000000</td>\n",
       "      <td>512.329200</td>\n",
       "    </tr>\n",
       "  </tbody>\n",
       "</table>\n",
       "</div>"
      ],
      "text/plain": [
       "       PassengerId    Survived      Pclass         Age       SibSp       Parch        Fare\n",
       "count   891.000000  891.000000  891.000000  891.000000  891.000000  891.000000  891.000000\n",
       "mean    446.000000    0.383838    2.308642   28.566970    0.523008    0.381594   32.204208\n",
       "std     257.353842    0.486592    0.836071   13.199572    1.102743    0.806057   49.693429\n",
       "min       1.000000    0.000000    1.000000    0.420000    0.000000    0.000000    0.000000\n",
       "25%     223.500000    0.000000    2.000000   22.000000    0.000000    0.000000    7.910400\n",
       "50%     446.000000    0.000000    3.000000   24.000000    0.000000    0.000000   14.454200\n",
       "75%     668.500000    1.000000    3.000000   35.000000    1.000000    0.000000   31.000000\n",
       "max     891.000000    1.000000    3.000000   80.000000    8.000000    6.000000  512.329200"
      ]
     },
     "execution_count": 10,
     "metadata": {},
     "output_type": "execute_result"
    }
   ],
   "source": [
    "train_df.describe()"
   ]
  },
  {
   "cell_type": "code",
   "execution_count": 11,
   "id": "83375317-0e9c-4d8f-9176-ffc6b8f4e446",
   "metadata": {},
   "outputs": [
    {
     "data": {
      "text/plain": [
       "0    549\n",
       "1    342\n",
       "Name: Survived, dtype: int64"
      ]
     },
     "execution_count": 11,
     "metadata": {},
     "output_type": "execute_result"
    }
   ],
   "source": [
    "train_df['Survived'].value_counts()"
   ]
  },
  {
   "cell_type": "code",
   "execution_count": 12,
   "id": "8fd5e745-b120-4754-b40b-ebaf7f68960f",
   "metadata": {},
   "outputs": [
    {
     "data": {
      "text/plain": [
       "3    491\n",
       "1    216\n",
       "2    184\n",
       "Name: Pclass, dtype: int64"
      ]
     },
     "execution_count": 12,
     "metadata": {},
     "output_type": "execute_result"
    }
   ],
   "source": [
    "train_df['Pclass'].value_counts()"
   ]
  },
  {
   "cell_type": "code",
   "execution_count": 13,
   "id": "cc0f5586-6e01-4c4d-8fc5-0bb7305b76b0",
   "metadata": {},
   "outputs": [
    {
     "data": {
      "text/plain": [
       "Pclass\n",
       "1    0.629630\n",
       "2    0.472826\n",
       "3    0.242363\n",
       "Name: Survived, dtype: float64"
      ]
     },
     "execution_count": 13,
     "metadata": {},
     "output_type": "execute_result"
    }
   ],
   "source": [
    "train_df.groupby(['Pclass'])['Survived'].mean()"
   ]
  },
  {
   "cell_type": "code",
   "execution_count": 14,
   "id": "a875afc4-a8fe-463f-8f5c-7135c448981a",
   "metadata": {},
   "outputs": [
    {
     "data": {
      "text/plain": [
       "0    608\n",
       "1    209\n",
       "2     28\n",
       "4     18\n",
       "3     16\n",
       "8      7\n",
       "5      5\n",
       "Name: SibSp, dtype: int64"
      ]
     },
     "execution_count": 14,
     "metadata": {},
     "output_type": "execute_result"
    }
   ],
   "source": [
    "train_df['SibSp'].value_counts()"
   ]
  },
  {
   "cell_type": "code",
   "execution_count": 15,
   "id": "88e18291-4856-430d-9a71-6084347ba6be",
   "metadata": {},
   "outputs": [
    {
     "data": {
      "text/plain": [
       "SibSp\n",
       "0    0.345395\n",
       "1    0.535885\n",
       "2    0.464286\n",
       "3    0.250000\n",
       "4    0.166667\n",
       "5    0.000000\n",
       "8    0.000000\n",
       "Name: Survived, dtype: float64"
      ]
     },
     "execution_count": 15,
     "metadata": {},
     "output_type": "execute_result"
    }
   ],
   "source": [
    "train_df.groupby(['SibSp'])['Survived'].mean()"
   ]
  },
  {
   "cell_type": "code",
   "execution_count": 16,
   "id": "888b63f7-b5ed-4e1b-b8f9-bfe84f25f59e",
   "metadata": {},
   "outputs": [
    {
     "data": {
      "text/plain": [
       "0    678\n",
       "1    118\n",
       "2     80\n",
       "5      5\n",
       "3      5\n",
       "4      4\n",
       "6      1\n",
       "Name: Parch, dtype: int64"
      ]
     },
     "execution_count": 16,
     "metadata": {},
     "output_type": "execute_result"
    }
   ],
   "source": [
    "train_df['Parch'].value_counts()"
   ]
  },
  {
   "cell_type": "code",
   "execution_count": 17,
   "id": "d50bbac8-ed45-4ccd-821d-75c903f7437c",
   "metadata": {},
   "outputs": [
    {
     "data": {
      "text/plain": [
       "Parch\n",
       "0    0.343658\n",
       "1    0.550847\n",
       "2    0.500000\n",
       "3    0.600000\n",
       "4    0.000000\n",
       "5    0.200000\n",
       "6    0.000000\n",
       "Name: Survived, dtype: float64"
      ]
     },
     "execution_count": 17,
     "metadata": {},
     "output_type": "execute_result"
    }
   ],
   "source": [
    "train_df.groupby(['Parch'])['Survived'].mean()"
   ]
  },
  {
   "cell_type": "code",
   "execution_count": 18,
   "id": "0289138a-2455-4f5b-8ed5-53f13bc8cb7f",
   "metadata": {},
   "outputs": [
    {
     "data": {
      "text/plain": [
       "<AxesSubplot:>"
      ]
     },
     "execution_count": 18,
     "metadata": {},
     "output_type": "execute_result"
    },
    {
     "data": {
      "image/png": "[encoded data removed]",
      "text/plain": [
       "<Figure size 432x288 with 1 Axes>"
      ]
     },
     "metadata": {
      "needs_background": "light"
     },
     "output_type": "display_data"
    }
   ],
   "source": [
    "train_df['Fare'].hist()"
   ]
  },
  {
   "cell_type": "code",
   "execution_count": 19,
   "id": "0e5b01be-e5b6-40ef-a013-f605903d6369",
   "metadata": {},
   "outputs": [
    {
     "data": {
      "text/plain": [
       "<AxesSubplot:>"
      ]
     },
     "execution_count": 19,
     "metadata": {},
     "output_type": "execute_result"
    },
    {
     "data": {
      "image/png": "[encoded data removed]",
      "text/plain": [
       "<Figure size 432x288 with 1 Axes>"
      ]
     },
     "metadata": {
      "needs_background": "light"
     },
     "output_type": "display_data"
    }
   ],
   "source": [
    "np.log(train_df['Fare'] + 1).hist()"
   ]
  },
  {
   "cell_type": "code",
   "execution_count": 20,
   "id": "dee291fc-e4fd-4792-9bcb-235f65ce31ff",
   "metadata": {},
   "outputs": [],
   "source": [
    "train_df['LogFare'] = np.log(train_df['Fare'] + 1)"
   ]
  },
  {
   "cell_type": "code",
   "execution_count": 21,
   "id": "aba4e140-c92a-4833-bf06-2df91ab3f02b",
   "metadata": {},
   "outputs": [
    {
     "data": {
      "text/html": [
       "<div>\n",
       "<style scoped>\n",
       "    .dataframe tbody tr th:only-of-type {\n",
       "        vertical-align: middle;\n",
       "    }\n",
       "\n",
       "    .dataframe tbody tr th {\n",
       "        vertical-align: top;\n",
       "    }\n",
       "\n",
       "    .dataframe thead th {\n",
       "        text-align: right;\n",
       "    }\n",
       "</style>\n",
       "<table border=\"1\" class=\"dataframe\">\n",
       "  <thead>\n",
       "    <tr style=\"text-align: right;\">\n",
       "      <th></th>\n",
       "      <th>Name</th>\n",
       "      <th>Sex</th>\n",
       "      <th>Ticket</th>\n",
       "      <th>Cabin</th>\n",
       "      <th>Embarked</th>\n",
       "    </tr>\n",
       "  </thead>\n",
       "  <tbody>\n",
       "    <tr>\n",
       "      <th>count</th>\n",
       "      <td>891</td>\n",
       "      <td>891</td>\n",
       "      <td>891</td>\n",
       "      <td>891</td>\n",
       "      <td>891</td>\n",
       "    </tr>\n",
       "    <tr>\n",
       "      <th>unique</th>\n",
       "      <td>891</td>\n",
       "      <td>2</td>\n",
       "      <td>681</td>\n",
       "      <td>147</td>\n",
       "      <td>3</td>\n",
       "    </tr>\n",
       "    <tr>\n",
       "      <th>top</th>\n",
       "      <td>Braund, Mr. Owen Harris</td>\n",
       "      <td>male</td>\n",
       "      <td>347082</td>\n",
       "      <td>B96 B98</td>\n",
       "      <td>S</td>\n",
       "    </tr>\n",
       "    <tr>\n",
       "      <th>freq</th>\n",
       "      <td>1</td>\n",
       "      <td>577</td>\n",
       "      <td>7</td>\n",
       "      <td>691</td>\n",
       "      <td>646</td>\n",
       "    </tr>\n",
       "  </tbody>\n",
       "</table>\n",
       "</div>"
      ],
      "text/plain": [
       "                           Name   Sex  Ticket    Cabin Embarked\n",
       "count                       891   891     891      891      891\n",
       "unique                      891     2     681      147        3\n",
       "top     Braund, Mr. Owen Harris  male  347082  B96 B98        S\n",
       "freq                          1   577       7      691      646"
      ]
     },
     "execution_count": 21,
     "metadata": {},
     "output_type": "execute_result"
    }
   ],
   "source": [
    "train_df.describe(include=object)"
   ]
  },
  {
   "cell_type": "code",
   "execution_count": 22,
   "id": "0f69e89d-432b-4545-b54f-88c8fcd44e05",
   "metadata": {},
   "outputs": [
    {
     "data": {
      "text/plain": [
       "male      577\n",
       "female    314\n",
       "Name: Sex, dtype: int64"
      ]
     },
     "execution_count": 22,
     "metadata": {},
     "output_type": "execute_result"
    }
   ],
   "source": [
    "train_df['Sex'].value_counts()"
   ]
  },
  {
   "cell_type": "code",
   "execution_count": 23,
   "id": "56b22237-b4e7-4e46-be65-edafe9cf7c85",
   "metadata": {},
   "outputs": [
    {
     "data": {
      "text/plain": [
       "347082      7\n",
       "CA. 2343    7\n",
       "1601        7\n",
       "3101295     6\n",
       "CA 2144     6\n",
       "           ..\n",
       "9234        1\n",
       "19988       1\n",
       "2693        1\n",
       "PC 17612    1\n",
       "370376      1\n",
       "Name: Ticket, Length: 681, dtype: int64"
      ]
     },
     "execution_count": 23,
     "metadata": {},
     "output_type": "execute_result"
    }
   ],
   "source": [
    "train_df['Ticket'].value_counts()"
   ]
  },
  {
   "cell_type": "code",
   "execution_count": 24,
   "id": "dcc69f9e-6728-47bf-ba10-c1109c0e780d",
   "metadata": {},
   "outputs": [
    {
     "data": {
      "text/plain": [
       "B96 B98        691\n",
       "G6               4\n",
       "C23 C25 C27      4\n",
       "C22 C26          3\n",
       "F33              3\n",
       "              ... \n",
       "E34              1\n",
       "C7               1\n",
       "C54              1\n",
       "E36              1\n",
       "C148             1\n",
       "Name: Cabin, Length: 147, dtype: int64"
      ]
     },
     "execution_count": 24,
     "metadata": {},
     "output_type": "execute_result"
    }
   ],
   "source": [
    "train_df['Cabin'].value_counts()"
   ]
  },
  {
   "cell_type": "code",
   "execution_count": 25,
   "id": "71c188dc-887e-4324-836c-7ccd76f7b782",
   "metadata": {},
   "outputs": [
    {
     "data": {
      "text/plain": [
       "S    646\n",
       "C    168\n",
       "Q     77\n",
       "Name: Embarked, dtype: int64"
      ]
     },
     "execution_count": 25,
     "metadata": {},
     "output_type": "execute_result"
    }
   ],
   "source": [
    "train_df['Embarked'].value_counts()"
   ]
  },
  {
   "cell_type": "markdown",
   "id": "c8ab7e95-2903-4966-9b5e-c33c1eb1635d",
   "metadata": {},
   "source": [
    "### Encodings"
   ]
  },
  {
   "cell_type": "code",
   "execution_count": 26,
   "id": "bf4b49bd-3b4f-42b4-be5c-e11302fae1d0",
   "metadata": {},
   "outputs": [],
   "source": [
    "dummy_columns = ['Sex', 'Pclass', 'Embarked']\n",
    "expanded_dummy_cols = list(pd.get_dummies(train_df[dummy_columns], columns=dummy_columns).columns)"
   ]
  },
  {
   "cell_type": "code",
   "execution_count": 27,
   "id": "c5cb1c51-389d-4273-97cb-1aa5b3cf19f4",
   "metadata": {},
   "outputs": [
    {
     "data": {
      "text/plain": [
       "['Sex_female',\n",
       " 'Sex_male',\n",
       " 'Pclass_1',\n",
       " 'Pclass_2',\n",
       " 'Pclass_3',\n",
       " 'Embarked_C',\n",
       " 'Embarked_Q',\n",
       " 'Embarked_S']"
      ]
     },
     "execution_count": 27,
     "metadata": {},
     "output_type": "execute_result"
    }
   ],
   "source": [
    "expanded_dummy_cols"
   ]
  },
  {
   "cell_type": "code",
   "execution_count": 28,
   "id": "4c540209-db21-47a0-9cea-8434f4eb86fb",
   "metadata": {},
   "outputs": [],
   "source": [
    "train_df = pd.get_dummies(train_df, columns=dummy_columns)"
   ]
  },
  {
   "cell_type": "markdown",
   "id": "44cab643-e503-41e2-9345-1b8b7e90c32b",
   "metadata": {},
   "source": [
    "### Create tensors from data"
   ]
  },
  {
   "cell_type": "code",
   "execution_count": 131,
   "id": "3bfd033e-6de5-4443-8654-1cbd45e7a67e",
   "metadata": {},
   "outputs": [],
   "source": [
    "Y = torch.tensor(train_df['Survived'].values, dtype=torch.float)"
   ]
  },
  {
   "cell_type": "code",
   "execution_count": 132,
   "id": "32c93939-1c86-4e1d-9dc0-c16c1de5240e",
   "metadata": {},
   "outputs": [
    {
     "data": {
      "text/plain": [
       "torch.Size([891])"
      ]
     },
     "execution_count": 132,
     "metadata": {},
     "output_type": "execute_result"
    }
   ],
   "source": [
    "Y.shape"
   ]
  },
  {
   "cell_type": "markdown",
   "id": "6d71c6cb-99ad-41b7-ae7f-15f4caa28af6",
   "metadata": {},
   "source": [
    "### this unsqueeze operation here is extremely important, to make sure broadcasting works as expected during computation of the loss. Without it, nothing will error out, but the model will not train properly --> both AK and JH have warned for this, always make sure you fully understand whats going on and debug these broadcasting operations"
   ]
  },
  {
   "cell_type": "code",
   "execution_count": 133,
   "id": "3265c827-00c7-4b7d-a93f-337547e6b8fb",
   "metadata": {},
   "outputs": [],
   "source": [
    "Y = Y.unsqueeze(-1)"
   ]
  },
  {
   "cell_type": "code",
   "execution_count": 134,
   "id": "917435d6-073d-4882-b7e0-f76aeb74aba8",
   "metadata": {},
   "outputs": [
    {
     "data": {
      "text/plain": [
       "torch.Size([891, 1])"
      ]
     },
     "execution_count": 134,
     "metadata": {},
     "output_type": "execute_result"
    }
   ],
   "source": [
    "Y.shape"
   ]
  },
  {
   "cell_type": "code",
   "execution_count": 135,
   "id": "91023ed2-0d75-4c96-97be-d22532fd950a",
   "metadata": {},
   "outputs": [
    {
     "data": {
      "text/plain": [
       "tensor([[0.],\n",
       "        [1.],\n",
       "        [1.]])"
      ]
     },
     "execution_count": 135,
     "metadata": {},
     "output_type": "execute_result"
    }
   ],
   "source": [
    "Y[:3,:]"
   ]
  },
  {
   "cell_type": "code",
   "execution_count": 136,
   "id": "c41de8d7-36c8-42ab-9f25-7df687a94a12",
   "metadata": {},
   "outputs": [
    {
     "data": {
      "text/plain": [
       "Index(['PassengerId', 'Survived', 'Name', 'Age', 'SibSp', 'Parch', 'Ticket', 'Fare', 'Cabin', 'LogFare', 'Sex_female', 'Sex_male',\n",
       "       'Pclass_1', 'Pclass_2', 'Pclass_3', 'Embarked_C', 'Embarked_Q', 'Embarked_S'],\n",
       "      dtype='object')"
      ]
     },
     "execution_count": 136,
     "metadata": {},
     "output_type": "execute_result"
    }
   ],
   "source": [
    "train_df.columns"
   ]
  },
  {
   "cell_type": "code",
   "execution_count": 137,
   "id": "85f6db7e-dc5b-4090-9f6a-127637c3f043",
   "metadata": {},
   "outputs": [],
   "source": [
    "train_cols = ['Age', 'SibSp', 'Parch', 'LogFare'] + expanded_dummy_cols\n",
    "\n",
    "X = torch.tensor(train_df[train_cols].values, dtype=torch.float)"
   ]
  },
  {
   "cell_type": "code",
   "execution_count": 138,
   "id": "485ddb56-62cc-400c-ba9b-6925c6fdb591",
   "metadata": {},
   "outputs": [
    {
     "data": {
      "text/plain": [
       "torch.Size([891, 12])"
      ]
     },
     "execution_count": 138,
     "metadata": {},
     "output_type": "execute_result"
    }
   ],
   "source": [
    "X.shape"
   ]
  },
  {
   "cell_type": "code",
   "execution_count": 139,
   "id": "2233d1b4-10ad-445c-9cf0-22409a78d45f",
   "metadata": {},
   "outputs": [
    {
     "data": {
      "text/plain": [
       "tensor([[22.0000,  1.0000,  0.0000,  2.1102,  0.0000,  1.0000,  0.0000,  0.0000,  1.0000,  0.0000,  0.0000,  1.0000],\n",
       "        [38.0000,  1.0000,  0.0000,  4.2806,  1.0000,  0.0000,  1.0000,  0.0000,  0.0000,  1.0000,  0.0000,  0.0000],\n",
       "        [26.0000,  0.0000,  0.0000,  2.1889,  1.0000,  0.0000,  0.0000,  0.0000,  1.0000,  0.0000,  0.0000,  1.0000]])"
      ]
     },
     "execution_count": 139,
     "metadata": {},
     "output_type": "execute_result"
    }
   ],
   "source": [
    "X[:3,:]"
   ]
  },
  {
   "cell_type": "markdown",
   "id": "d2002f96-29b9-4048-9d50-9994cb0b4075",
   "metadata": {},
   "source": [
    "### Let's do a forward pass of a very simple linear model without activations"
   ]
  },
  {
   "cell_type": "code",
   "execution_count": 140,
   "id": "baf226e3-289a-4745-843f-789b24fc2522",
   "metadata": {},
   "outputs": [
    {
     "data": {
      "text/plain": [
       "torch.Size([12, 1])"
      ]
     },
     "execution_count": 140,
     "metadata": {},
     "output_type": "execute_result"
    }
   ],
   "source": [
    "torch.manual_seed(442)\n",
    "\n",
    "coeffs = torch.rand(size=(X.shape[1], 1))\n",
    "coeffs.shape"
   ]
  },
  {
   "cell_type": "code",
   "execution_count": 141,
   "id": "f529f4f0-3be9-4d0f-aba8-dcf6beb3629e",
   "metadata": {},
   "outputs": [
    {
     "data": {
      "text/plain": [
       "torch.Size([891, 1])"
      ]
     },
     "execution_count": 141,
     "metadata": {},
     "output_type": "execute_result"
    }
   ],
   "source": [
    "#  [891, 12] @ [12, 1] --> [891, 1]\n",
    "preds = X @ coeffs\n",
    "preds.shape"
   ]
  },
  {
   "cell_type": "code",
   "execution_count": 142,
   "id": "1b45994c-1875-4b5b-9631-99987bd0a231",
   "metadata": {},
   "outputs": [
    {
     "data": {
      "text/plain": [
       "3.842719793319702"
      ]
     },
     "execution_count": 142,
     "metadata": {},
     "output_type": "execute_result"
    }
   ],
   "source": [
    "loss = torch.abs(Y - preds).mean()\n",
    "loss.item()"
   ]
  },
  {
   "cell_type": "code",
   "execution_count": 143,
   "id": "bf65448d-3dc2-441d-9ba2-4a4c6491c6bb",
   "metadata": {},
   "outputs": [
    {
     "data": {
      "text/plain": [
       "tensor(4.2266)"
      ]
     },
     "execution_count": 143,
     "metadata": {},
     "output_type": "execute_result"
    }
   ],
   "source": [
    "preds.mean()"
   ]
  },
  {
   "cell_type": "markdown",
   "id": "23b261eb-553a-4eec-9732-c752ecfeb7c4",
   "metadata": {},
   "source": [
    "This seems to work, however the average prediction is super high. We expect something in the range of (0,1)\n",
    "\n",
    "So let's have a look at normalization and initialisation of the coeffs"
   ]
  },
  {
   "cell_type": "code",
   "execution_count": 144,
   "id": "03147a10-6095-45e5-8c13-3f0f480342bc",
   "metadata": {},
   "outputs": [
    {
     "data": {
      "text/plain": [
       "{'Age': tensor(28.5670),\n",
       " 'SibSp': tensor(0.5230),\n",
       " 'Parch': tensor(0.3816),\n",
       " 'LogFare': tensor(2.9622),\n",
       " 'Sex_female': tensor(0.3524),\n",
       " 'Sex_male': tensor(0.6476),\n",
       " 'Pclass_1': tensor(0.2424),\n",
       " 'Pclass_2': tensor(0.2065),\n",
       " 'Pclass_3': tensor(0.5511),\n",
       " 'Embarked_C': tensor(0.1886),\n",
       " 'Embarked_Q': tensor(0.0864),\n",
       " 'Embarked_S': tensor(0.7250)}"
      ]
     },
     "execution_count": 144,
     "metadata": {},
     "output_type": "execute_result"
    }
   ],
   "source": [
    "dict(zip(train_cols, X.mean(dim=0)))"
   ]
  },
  {
   "cell_type": "markdown",
   "id": "78933c16-618b-45fe-9733-d6e7d913741e",
   "metadata": {},
   "source": [
    "Especially `Age` is very large, let's normalize by dividing through the max value per column"
   ]
  },
  {
   "cell_type": "code",
   "execution_count": 145,
   "id": "42a3126c-dbe2-4f85-a6f3-45d7b6d0c6c3",
   "metadata": {},
   "outputs": [],
   "source": [
    "max_vals, max_idxs = X.max(dim=0)"
   ]
  },
  {
   "cell_type": "code",
   "execution_count": 146,
   "id": "0bd2f6a8-8370-464e-973a-0932644c50c4",
   "metadata": {},
   "outputs": [
    {
     "data": {
      "text/plain": [
       "torch.Size([12])"
      ]
     },
     "execution_count": 146,
     "metadata": {},
     "output_type": "execute_result"
    }
   ],
   "source": [
    "max_vals.shape"
   ]
  },
  {
   "cell_type": "code",
   "execution_count": 147,
   "id": "06e5a692-75b0-491e-a732-4aa8be7a55f6",
   "metadata": {},
   "outputs": [
    {
     "data": {
      "text/plain": [
       "torch.Size([891, 12])"
      ]
     },
     "execution_count": 147,
     "metadata": {},
     "output_type": "execute_result"
    }
   ],
   "source": [
    "# [891, 12]\n",
    "# [12] --> [1,12] --> [891, 12]\n",
    "(X / max_vals).shape"
   ]
  },
  {
   "cell_type": "code",
   "execution_count": 148,
   "id": "7bd44e04-e8fa-485a-b6a4-3bce79f484ed",
   "metadata": {},
   "outputs": [],
   "source": [
    "X = X / max_vals"
   ]
  },
  {
   "cell_type": "code",
   "execution_count": 149,
   "id": "90205b91-f95d-4faf-8644-e0ef625cf4c1",
   "metadata": {},
   "outputs": [
    {
     "data": {
      "text/plain": [
       "tensor([1., 1., 1., 1., 1., 1., 1., 1., 1., 1., 1., 1.])"
      ]
     },
     "execution_count": 149,
     "metadata": {},
     "output_type": "execute_result"
    }
   ],
   "source": [
    "X.max(dim=0)[0] #this should all be ones"
   ]
  },
  {
   "cell_type": "markdown",
   "id": "54d67f28-168d-4b96-b7cc-913b236c956c",
   "metadata": {},
   "source": [
    "And let's do again the forward pass"
   ]
  },
  {
   "cell_type": "code",
   "execution_count": 150,
   "id": "32da8c8c-1324-4b4f-80a2-ad789b2ab126",
   "metadata": {},
   "outputs": [
    {
     "data": {
      "text/plain": [
       "tensor(1.5871)"
      ]
     },
     "execution_count": 150,
     "metadata": {},
     "output_type": "execute_result"
    }
   ],
   "source": [
    "preds = X @ coeffs\n",
    "loss = torch.abs(Y - preds).mean()\n",
    "loss"
   ]
  },
  {
   "cell_type": "markdown",
   "id": "1b06f498-664c-4041-b1be-c69cd7144ef4",
   "metadata": {},
   "source": [
    "Much better!"
   ]
  },
  {
   "cell_type": "markdown",
   "id": "d4b2e03a-ddf0-4998-a674-8b7de23bbf2e",
   "metadata": {},
   "source": [
    "Let's also tweak initialisation, currently we draw from a uniform distribution between 0 and 1, so let's center around 0 by subtracting 0.5"
   ]
  },
  {
   "cell_type": "code",
   "execution_count": 151,
   "id": "a7b99f15-790b-4bfb-bb89-793e752db3e6",
   "metadata": {},
   "outputs": [],
   "source": [
    "torch.manual_seed(442)\n",
    "\n",
    "coeffs = torch.rand(size=(X.shape[1], 1))-0.5"
   ]
  },
  {
   "cell_type": "code",
   "execution_count": 152,
   "id": "feb8a55f-6aea-42e9-a0a8-24821caeb7c3",
   "metadata": {},
   "outputs": [
    {
     "data": {
      "text/plain": [
       "tensor(0.5200)"
      ]
     },
     "execution_count": 152,
     "metadata": {},
     "output_type": "execute_result"
    }
   ],
   "source": [
    "preds = X @ coeffs\n",
    "loss = torch.abs(Y - preds).mean()\n",
    "loss"
   ]
  },
  {
   "cell_type": "markdown",
   "id": "87f8bb37-af7a-4017-9ddf-d11c99f4cbfb",
   "metadata": {},
   "source": [
    "Much much better!"
   ]
  },
  {
   "cell_type": "markdown",
   "id": "a4a88116-fe6d-44d5-b129-a4056f55e1da",
   "metadata": {},
   "source": [
    "### Now let's formalize and train this for a couple of epochs"
   ]
  },
  {
   "cell_type": "code",
   "execution_count": 259,
   "id": "4823c2c9-4835-4777-a2b6-c51b0fe7bb0a",
   "metadata": {},
   "outputs": [],
   "source": [
    "def init_coeffs(): \n",
    "    torch.manual_seed(442)\n",
    "    return (torch.rand(size=(X.shape[1], 1))-0.5).requires_grad_()\n",
    "\n",
    "def get_preds(X, coeffs): return X @ coeffs\n",
    "\n",
    "def get_loss(Y, preds): return torch.abs(Y - preds).mean()\n",
    "\n",
    "def forward(X, Y, coeffs):\n",
    "    preds = get_preds(X, coeffs)\n",
    "    loss = get_loss(Y, preds)\n",
    "    return loss\n",
    "\n",
    "def train(epochs=20, lr=0.01):\n",
    "    coeffs = init_coeffs()\n",
    "    for _ in range(epochs):\n",
    "        loss = forward(X, Y, coeffs)\n",
    "        loss.backward()\n",
    "        with torch.no_grad():\n",
    "            coeffs -= coeffs.grad * 0.2\n",
    "            coeffs.grad.zero_()\n",
    "        print(f'{loss:.4f}')\n",
    "    return coeffs"
   ]
  },
  {
   "cell_type": "code",
   "execution_count": 260,
   "id": "f1f4d961-4fff-49a9-b146-fd89bf0f1ed4",
   "metadata": {},
   "outputs": [
    {
     "name": "stdout",
     "output_type": "stream",
     "text": [
      "0.5200\n",
      "0.4922\n",
      "0.4686\n",
      "0.4451\n",
      "0.4218\n",
      "0.3997\n",
      "0.3781\n",
      "0.3574\n",
      "0.3403\n",
      "0.3368\n",
      "0.3245\n",
      "0.3314\n",
      "0.3043\n",
      "0.3128\n",
      "0.2973\n",
      "0.2969\n",
      "0.2893\n",
      "0.2862\n"
     ]
    }
   ],
   "source": [
    "coeffs = train(18,0.2)"
   ]
  },
  {
   "cell_type": "markdown",
   "id": "599cf9c6-20d2-495f-b448-debf0bd17bf9",
   "metadata": {},
   "source": [
    "### Let's add a metric: accuracy"
   ]
  },
  {
   "cell_type": "code",
   "execution_count": 261,
   "id": "9b5c62eb-ef9f-4edb-8799-c0345338f5b7",
   "metadata": {},
   "outputs": [
    {
     "data": {
      "text/plain": [
       "tensor(0.2828, grad_fn=<MeanBackward0>)"
      ]
     },
     "execution_count": 261,
     "metadata": {},
     "output_type": "execute_result"
    }
   ],
   "source": [
    "forward(X, Y, coeffs)"
   ]
  },
  {
   "cell_type": "code",
   "execution_count": 262,
   "id": "644ae25f-77ca-4975-a16a-04fea8ab3fda",
   "metadata": {},
   "outputs": [
    {
     "data": {
      "text/plain": [
       "tensor(0.7868)"
      ]
     },
     "execution_count": 262,
     "metadata": {},
     "output_type": "execute_result"
    }
   ],
   "source": [
    "(Y.bool() == (get_preds(X, coeffs) > 0.5)).float().mean()"
   ]
  },
  {
   "cell_type": "code",
   "execution_count": 263,
   "id": "1c1089c3-7a40-4aef-9a29-4ba9a4e6e91b",
   "metadata": {},
   "outputs": [],
   "source": [
    "def acc(x, y): return (y.bool() == (get_preds(x, coeffs) > 0.5)).float().mean()"
   ]
  },
  {
   "cell_type": "markdown",
   "id": "c611c077-309f-4f9c-b2c8-3f3635016e7a",
   "metadata": {},
   "source": [
    "But since we only compute the metrics on the validation set, we will also have to implement a split"
   ]
  },
  {
   "cell_type": "code",
   "execution_count": 264,
   "id": "76307a11-d319-4427-a83f-e23178b4a4b6",
   "metadata": {},
   "outputs": [],
   "source": [
    "from sklearn.model_selection import train_test_split"
   ]
  },
  {
   "cell_type": "code",
   "execution_count": 265,
   "id": "057291cc-41ad-46fe-b8eb-5b01ee55cff1",
   "metadata": {},
   "outputs": [
    {
     "data": {
      "text/plain": [
       "[torch.Size([712, 12]),\n",
       " torch.Size([179, 12]),\n",
       " torch.Size([712, 1]),\n",
       " torch.Size([179, 1])]"
      ]
     },
     "execution_count": 265,
     "metadata": {},
     "output_type": "execute_result"
    }
   ],
   "source": [
    "out = train_test_split(X, Y, test_size=0.2)\n",
    "[o.shape for o in out]"
   ]
  },
  {
   "cell_type": "code",
   "execution_count": 266,
   "id": "a75a980d-208e-4f70-9984-3e98ceb2c257",
   "metadata": {},
   "outputs": [],
   "source": [
    "X_train, X_val, Y_train, Y_val = train_test_split(X, Y, test_size=0.2)"
   ]
  },
  {
   "cell_type": "code",
   "execution_count": 267,
   "id": "7df64d53-4400-44fa-a9de-9a07bd43b20c",
   "metadata": {},
   "outputs": [],
   "source": [
    "def train(epochs=20, lr=0.01):\n",
    "    coeffs = init_coeffs()\n",
    "    for _ in range(epochs):\n",
    "        loss = forward(X_train, Y_train, coeffs)\n",
    "        loss.backward()\n",
    "        with torch.no_grad():\n",
    "            coeffs -= coeffs.grad * lr\n",
    "            coeffs.grad.zero_()\n",
    "        print(f'{loss:.4f}')        \n",
    "    return coeffs"
   ]
  },
  {
   "cell_type": "code",
   "execution_count": 268,
   "id": "72bc8529-b233-474c-978e-72dfdb433065",
   "metadata": {},
   "outputs": [
    {
     "name": "stdout",
     "output_type": "stream",
     "text": [
      "0.5190\n",
      "0.4900\n",
      "0.4658\n",
      "0.4418\n",
      "0.4182\n",
      "0.3965\n",
      "0.3838\n",
      "0.3593\n",
      "0.3620\n",
      "0.3218\n",
      "0.3112\n",
      "0.3186\n",
      "0.3087\n",
      "0.3125\n",
      "0.2931\n",
      "0.2937\n",
      "0.2899\n",
      "0.2858\n"
     ]
    }
   ],
   "source": [
    "coeffs = train(18, 0.2)"
   ]
  },
  {
   "cell_type": "code",
   "execution_count": 269,
   "id": "dcc22734-4beb-4a31-9f00-45e5d7285549",
   "metadata": {},
   "outputs": [
    {
     "data": {
      "text/plain": [
       "tensor(0.7765)"
      ]
     },
     "execution_count": 269,
     "metadata": {},
     "output_type": "execute_result"
    }
   ],
   "source": [
    "(Y_val.bool() == (get_preds(X_val, coeffs) > 0.5)).float().mean()"
   ]
  },
  {
   "cell_type": "code",
   "execution_count": 270,
   "id": "02d40f60-5fc6-4a48-9b49-d2921143bacb",
   "metadata": {},
   "outputs": [
    {
     "data": {
      "text/plain": [
       "tensor(0.7765)"
      ]
     },
     "execution_count": 270,
     "metadata": {},
     "output_type": "execute_result"
    }
   ],
   "source": [
    "acc(X_val, Y_val)"
   ]
  },
  {
   "cell_type": "markdown",
   "id": "64ec0f8c-371d-4a5b-a5ee-a2e3f00911d1",
   "metadata": {},
   "source": [
    "Let's add a sigmoid as well"
   ]
  },
  {
   "cell_type": "code",
   "execution_count": 271,
   "id": "7ef02c3d-fef0-468d-910f-bcbb41f6168e",
   "metadata": {},
   "outputs": [],
   "source": [
    "def get_preds(X, coeffs): return torch.sigmoid(X @ coeffs)"
   ]
  },
  {
   "cell_type": "code",
   "execution_count": 272,
   "id": "ecb20a7b-34b7-4756-b134-46e6ef3cf41e",
   "metadata": {},
   "outputs": [
    {
     "name": "stdout",
     "output_type": "stream",
     "text": [
      "0.5054\n",
      "0.3209\n",
      "0.2553\n",
      "0.2042\n",
      "0.2017\n",
      "0.2004\n",
      "0.1995\n",
      "0.1989\n",
      "0.1984\n",
      "0.1981\n",
      "0.1978\n",
      "0.1976\n",
      "0.1975\n",
      "0.1973\n",
      "0.1972\n",
      "0.1971\n",
      "0.1970\n",
      "0.1970\n"
     ]
    }
   ],
   "source": [
    "coeffs = train(18, 100)"
   ]
  },
  {
   "cell_type": "code",
   "execution_count": 273,
   "id": "771f6f8d-eaf5-45a4-a954-42f2373dfeb0",
   "metadata": {},
   "outputs": [
    {
     "data": {
      "text/plain": [
       "tensor(0.8380)"
      ]
     },
     "execution_count": 273,
     "metadata": {},
     "output_type": "execute_result"
    }
   ],
   "source": [
    "acc(X_val, Y_val)"
   ]
  },
  {
   "cell_type": "markdown",
   "id": "bfd1d5c3-926a-4074-b35f-a9dbee92a826",
   "metadata": {},
   "source": [
    "#### Now let's submit to kaggle"
   ]
  },
  {
   "cell_type": "code",
   "execution_count": 293,
   "id": "b66058d5-0f7a-40fd-a33c-5a781e0c0c1f",
   "metadata": {},
   "outputs": [],
   "source": [
    "test_df = pd.read_csv(path/'test.csv')\n",
    "\n",
    "# We need to replicate the preprocessing pipeline:\n",
    "\n",
    "test_df.fillna(modes, inplace=True)\n",
    "test_df['LogFare'] = np.log(test_df['Fare']+1)\n",
    "test_df = pd.get_dummies(test_df, columns=dummy_columns)\n",
    "\n",
    "# Get X tensor\n",
    "X_test = torch.tensor(test_df[train_cols].values, dtype=torch.float)\n",
    "\n",
    "# Normalize:\n",
    "X_test = X_test / max_vals"
   ]
  },
  {
   "cell_type": "code",
   "execution_count": 297,
   "id": "128f4350-98c6-4099-bc80-846837e81733",
   "metadata": {},
   "outputs": [],
   "source": [
    "test_df['Survived'] = (get_preds(X_test, coeffs) > 0.5).int()"
   ]
  },
  {
   "cell_type": "code",
   "execution_count": 299,
   "id": "68c56c2b-e3a0-4545-af18-ac0f682d365e",
   "metadata": {},
   "outputs": [],
   "source": [
    "sub_df = test_df[['PassengerId','Survived']]\n",
    "sub_df.to_csv('sub.csv', index=False)"
   ]
  },
  {
   "cell_type": "code",
   "execution_count": null,
   "id": "01351a1b-627e-41df-9bfb-6ca4bad954bd",
   "metadata": {},
   "outputs": [],
   "source": []
  }
 ],
 "metadata": {
  "kernelspec": {
   "display_name": "Python 3 (ipykernel)",
   "language": "python",
   "name": "python3"
  },
  "language_info": {
   "codemirror_mode": {
    "name": "ipython",
    "version": 3
   },
   "file_extension": ".py",
   "mimetype": "text/x-python",
   "name": "python",
   "nbconvert_exporter": "python",
   "pygments_lexer": "ipython3",
   "version": "3.9.13"
  }
 },
 "nbformat": 4,
 "nbformat_minor": 5
}
