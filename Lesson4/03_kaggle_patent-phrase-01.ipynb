{
 "cells": [
  {
   "cell_type": "markdown",
   "id": "21faa54c-cde2-4d8f-9c91-094ca193481b",
   "metadata": {},
   "source": [
    "### This is a copy of the Kaggle notebook which submits to the us-patent-phrase-to-phrase matching competition\n",
    "\n",
    "link: https://www.kaggle.com/code/lucasvw/patent-phrase-01/"
   ]
  },
  {
   "cell_type": "code",
   "execution_count": 1,
   "id": "eb43a417",
   "metadata": {
    "_cell_guid": "b1076dfc-b9ad-4769-8c92-a6c4dae69d19",
    "_uuid": "8f2839f25d086af736a60e9eeb907d3b93b6e0e5",
    "execution": {
     "iopub.execute_input": "2023-02-17T11:53:13.828562Z",
     "iopub.status.busy": "2023-02-17T11:53:13.828115Z",
     "iopub.status.idle": "2023-02-17T11:53:13.837965Z",
     "shell.execute_reply": "2023-02-17T11:53:13.837156Z"
    },
    "papermill": {
     "duration": 0.023746,
     "end_time": "2023-02-17T11:53:13.840203",
     "exception": false,
     "start_time": "2023-02-17T11:53:13.816457",
     "status": "completed"
    },
    "tags": []
   },
   "outputs": [],
   "source": [
    "from pathlib import Path\n",
    "\n",
    "import numpy as np\n",
    "import pandas as pd"
   ]
  },
  {
   "cell_type": "code",
   "execution_count": 2,
   "id": "d7f2df44",
   "metadata": {
    "execution": {
     "iopub.execute_input": "2023-02-17T11:53:13.854388Z",
     "iopub.status.busy": "2023-02-17T11:53:13.853606Z",
     "iopub.status.idle": "2023-02-17T11:53:14.786960Z",
     "shell.execute_reply": "2023-02-17T11:53:14.785806Z"
    },
    "papermill": {
     "duration": 0.942814,
     "end_time": "2023-02-17T11:53:14.789443",
     "exception": false,
     "start_time": "2023-02-17T11:53:13.846629",
     "status": "completed"
    },
    "tags": []
   },
   "outputs": [
    {
     "name": "stdout",
     "output_type": "stream",
     "text": [
      "/bin/bash: /opt/conda/lib/libtinfo.so.6: no version information available (required by /bin/bash)\n",
      "sample_submission.csv  test.csv  train.csv\n"
     ]
    }
   ],
   "source": [
    "path = Path('/kaggle/input/us-patent-phrase-to-phrase-matching')\n",
    "!ls {path}"
   ]
  },
  {
   "cell_type": "code",
   "execution_count": 3,
   "id": "c6bf94d2",
   "metadata": {
    "execution": {
     "iopub.execute_input": "2023-02-17T11:53:14.805122Z",
     "iopub.status.busy": "2023-02-17T11:53:14.804375Z",
     "iopub.status.idle": "2023-02-17T11:53:14.932992Z",
     "shell.execute_reply": "2023-02-17T11:53:14.931833Z"
    },
    "papermill": {
     "duration": 0.139472,
     "end_time": "2023-02-17T11:53:14.935569",
     "exception": false,
     "start_time": "2023-02-17T11:53:14.796097",
     "status": "completed"
    },
    "tags": []
   },
   "outputs": [
    {
     "data": {
      "text/html": [
       "<div>\n",
       "<style scoped>\n",
       "    .dataframe tbody tr th:only-of-type {\n",
       "        vertical-align: middle;\n",
       "    }\n",
       "\n",
       "    .dataframe tbody tr th {\n",
       "        vertical-align: top;\n",
       "    }\n",
       "\n",
       "    .dataframe thead th {\n",
       "        text-align: right;\n",
       "    }\n",
       "</style>\n",
       "<table border=\"1\" class=\"dataframe\">\n",
       "  <thead>\n",
       "    <tr style=\"text-align: right;\">\n",
       "      <th></th>\n",
       "      <th>id</th>\n",
       "      <th>context</th>\n",
       "      <th>anchor</th>\n",
       "      <th>target</th>\n",
       "      <th>score</th>\n",
       "    </tr>\n",
       "  </thead>\n",
       "  <tbody>\n",
       "    <tr>\n",
       "      <th>0</th>\n",
       "      <td>37d61fd2272659b1</td>\n",
       "      <td>A47</td>\n",
       "      <td>abatement</td>\n",
       "      <td>abatement of pollution</td>\n",
       "      <td>0.50</td>\n",
       "    </tr>\n",
       "    <tr>\n",
       "      <th>1</th>\n",
       "      <td>7b9652b17b68b7a4</td>\n",
       "      <td>A47</td>\n",
       "      <td>abatement</td>\n",
       "      <td>act of abating</td>\n",
       "      <td>0.75</td>\n",
       "    </tr>\n",
       "  </tbody>\n",
       "</table>\n",
       "</div>"
      ],
      "text/plain": [
       "                 id context     anchor                  target  score\n",
       "0  37d61fd2272659b1     A47  abatement  abatement of pollution   0.50\n",
       "1  7b9652b17b68b7a4     A47  abatement          act of abating   0.75"
      ]
     },
     "execution_count": 3,
     "metadata": {},
     "output_type": "execute_result"
    }
   ],
   "source": [
    "train_csv = pd.read_csv(path/'train.csv')\n",
    "train_csv = train_csv[['id', 'context', 'anchor', 'target', 'score']]\n",
    "train_csv.head(2)"
   ]
  },
  {
   "cell_type": "code",
   "execution_count": 4,
   "id": "bdad3851",
   "metadata": {
    "execution": {
     "iopub.execute_input": "2023-02-17T11:53:14.953558Z",
     "iopub.status.busy": "2023-02-17T11:53:14.952542Z",
     "iopub.status.idle": "2023-02-17T11:53:14.959764Z",
     "shell.execute_reply": "2023-02-17T11:53:14.958659Z"
    },
    "papermill": {
     "duration": 0.017999,
     "end_time": "2023-02-17T11:53:14.961837",
     "exception": false,
     "start_time": "2023-02-17T11:53:14.943838",
     "status": "completed"
    },
    "tags": []
   },
   "outputs": [
    {
     "data": {
      "text/plain": [
       "(36473, 5)"
      ]
     },
     "execution_count": 4,
     "metadata": {},
     "output_type": "execute_result"
    }
   ],
   "source": [
    "train_csv.shape"
   ]
  },
  {
   "cell_type": "code",
   "execution_count": 5,
   "id": "71c27f51",
   "metadata": {
    "execution": {
     "iopub.execute_input": "2023-02-17T11:53:14.978850Z",
     "iopub.status.busy": "2023-02-17T11:53:14.977957Z",
     "iopub.status.idle": "2023-02-17T11:53:15.571035Z",
     "shell.execute_reply": "2023-02-17T11:53:15.569812Z"
    },
    "papermill": {
     "duration": 0.604419,
     "end_time": "2023-02-17T11:53:15.573900",
     "exception": false,
     "start_time": "2023-02-17T11:53:14.969481",
     "status": "completed"
    },
    "tags": []
   },
   "outputs": [],
   "source": [
    "def create_input(row):\n",
    "    return row['context'] + ' [SEP] ' + row['anchor'] + ' [SEP] ' + row['target']\n",
    "\n",
    "train_csv['input'] = train_csv.apply(create_input, axis=1)"
   ]
  },
  {
   "cell_type": "code",
   "execution_count": 6,
   "id": "34a1b50f",
   "metadata": {
    "execution": {
     "iopub.execute_input": "2023-02-17T11:53:15.592033Z",
     "iopub.status.busy": "2023-02-17T11:53:15.591711Z",
     "iopub.status.idle": "2023-02-17T11:53:16.186800Z",
     "shell.execute_reply": "2023-02-17T11:53:16.185767Z"
    },
    "papermill": {
     "duration": 0.605599,
     "end_time": "2023-02-17T11:53:16.189184",
     "exception": false,
     "start_time": "2023-02-17T11:53:15.583585",
     "status": "completed"
    },
    "tags": []
   },
   "outputs": [],
   "source": [
    "# Dataset is a huggingface wrapper around our data\n",
    "from datasets import Dataset\n",
    "\n",
    "t = train_csv[['input', 'score']].rename(\n",
    "    {'score': 'labels'} # needed for transformers to work \n",
    ")\n",
    "\n",
    "ds = Dataset.from_pandas(t)"
   ]
  },
  {
   "cell_type": "code",
   "execution_count": 7,
   "id": "53730b87",
   "metadata": {
    "execution": {
     "iopub.execute_input": "2023-02-17T11:53:16.204110Z",
     "iopub.status.busy": "2023-02-17T11:53:16.203671Z",
     "iopub.status.idle": "2023-02-17T11:53:16.209604Z",
     "shell.execute_reply": "2023-02-17T11:53:16.208681Z"
    },
    "papermill": {
     "duration": 0.015541,
     "end_time": "2023-02-17T11:53:16.211525",
     "exception": false,
     "start_time": "2023-02-17T11:53:16.195984",
     "status": "completed"
    },
    "tags": []
   },
   "outputs": [
    {
     "data": {
      "text/plain": [
       "Dataset({\n",
       "    features: ['input', 'score', '__index_level_0__'],\n",
       "    num_rows: 36473\n",
       "})"
      ]
     },
     "execution_count": 7,
     "metadata": {},
     "output_type": "execute_result"
    }
   ],
   "source": [
    "ds"
   ]
  },
  {
   "cell_type": "markdown",
   "id": "a962d3bd",
   "metadata": {
    "papermill": {
     "duration": 0.006382,
     "end_time": "2023-02-17T11:53:16.224447",
     "exception": false,
     "start_time": "2023-02-17T11:53:16.218065",
     "status": "completed"
    },
    "tags": []
   },
   "source": [
    "### Tokenizer: Tokenization and Numericalisation"
   ]
  },
  {
   "cell_type": "code",
   "execution_count": 8,
   "id": "76465c70",
   "metadata": {
    "execution": {
     "iopub.execute_input": "2023-02-17T11:53:16.239384Z",
     "iopub.status.busy": "2023-02-17T11:53:16.238464Z",
     "iopub.status.idle": "2023-02-17T11:53:16.256951Z",
     "shell.execute_reply": "2023-02-17T11:53:16.255350Z"
    },
    "papermill": {
     "duration": 0.028618,
     "end_time": "2023-02-17T11:53:16.259532",
     "exception": false,
     "start_time": "2023-02-17T11:53:16.230914",
     "status": "completed"
    },
    "tags": []
   },
   "outputs": [
    {
     "name": "stdout",
     "output_type": "stream",
     "text": [
      "/kaggle/input/deberta-v3-small/deberta-v3-small/spm.model\n",
      "/kaggle/input/deberta-v3-small/deberta-v3-small/config.json\n",
      "/kaggle/input/deberta-v3-small/deberta-v3-small/README.md\n",
      "/kaggle/input/deberta-v3-small/deberta-v3-small/tokenizer_config.json\n",
      "/kaggle/input/deberta-v3-small/deberta-v3-small/pytorch_model.bin\n",
      "/kaggle/input/us-patent-phrase-to-phrase-matching/sample_submission.csv\n",
      "/kaggle/input/us-patent-phrase-to-phrase-matching/train.csv\n",
      "/kaggle/input/us-patent-phrase-to-phrase-matching/test.csv\n"
     ]
    }
   ],
   "source": [
    "import os\n",
    "for dirname, _, filenames in os.walk('/kaggle/input'):\n",
    "    for filename in filenames:\n",
    "        print(os.path.join(dirname, filename))"
   ]
  },
  {
   "cell_type": "code",
   "execution_count": 9,
   "id": "6f369894",
   "metadata": {
    "execution": {
     "iopub.execute_input": "2023-02-17T11:53:16.274651Z",
     "iopub.status.busy": "2023-02-17T11:53:16.273870Z",
     "iopub.status.idle": "2023-02-17T11:53:17.621153Z",
     "shell.execute_reply": "2023-02-17T11:53:17.619637Z"
    },
    "papermill": {
     "duration": 1.357476,
     "end_time": "2023-02-17T11:53:17.623972",
     "exception": false,
     "start_time": "2023-02-17T11:53:16.266496",
     "status": "completed"
    },
    "tags": []
   },
   "outputs": [
    {
     "name": "stderr",
     "output_type": "stream",
     "text": [
      "Special tokens have been added in the vocabulary, make sure the associated word embeddings are fine-tuned or trained.\n",
      "/opt/conda/lib/python3.7/site-packages/transformers/convert_slow_tokenizer.py:435: UserWarning: The sentencepiece tokenizer that you are converting to a fast tokenizer uses the byte fallback option which is not implemented in the fast tokenizers. In practice this means that the fast version of the tokenizer can produce unknown tokens whereas the sentencepiece version would have converted these unknown tokens into a sequence of byte tokens matching the original piece of text.\n",
      "  \"The sentencepiece tokenizer that you are converting to a fast tokenizer uses the byte fallback option\"\n",
      "Special tokens have been added in the vocabulary, make sure the associated word embeddings are fine-tuned or trained.\n"
     ]
    }
   ],
   "source": [
    "from transformers import AutoTokenizer\n",
    "\n",
    "model_nm = '/kaggle/input/deberta-v3-small/deberta-v3-small'\n",
    "\n",
    "#Tokenizers come from pre-trained models, as the vocab ofcourse depends on the data the model was trained on\n",
    "tokz = AutoTokenizer.from_pretrained(model_nm)"
   ]
  },
  {
   "cell_type": "code",
   "execution_count": 10,
   "id": "cbbc4841",
   "metadata": {
    "execution": {
     "iopub.execute_input": "2023-02-17T11:53:17.640110Z",
     "iopub.status.busy": "2023-02-17T11:53:17.639785Z",
     "iopub.status.idle": "2023-02-17T11:53:17.648192Z",
     "shell.execute_reply": "2023-02-17T11:53:17.647292Z"
    },
    "papermill": {
     "duration": 0.018418,
     "end_time": "2023-02-17T11:53:17.650144",
     "exception": false,
     "start_time": "2023-02-17T11:53:17.631726",
     "status": "completed"
    },
    "tags": []
   },
   "outputs": [
    {
     "data": {
      "text/plain": [
       "(128000,\n",
       " {'bos_token': '[CLS]',\n",
       "  'eos_token': '[SEP]',\n",
       "  'unk_token': '[UNK]',\n",
       "  'sep_token': '[SEP]',\n",
       "  'pad_token': '[PAD]',\n",
       "  'cls_token': '[CLS]',\n",
       "  'mask_token': '[MASK]'})"
      ]
     },
     "execution_count": 10,
     "metadata": {},
     "output_type": "execute_result"
    }
   ],
   "source": [
    "tokz.vocab_size, tokz.special_tokens_map"
   ]
  },
  {
   "cell_type": "code",
   "execution_count": 11,
   "id": "9f7ffdc4",
   "metadata": {
    "execution": {
     "iopub.execute_input": "2023-02-17T11:53:17.665766Z",
     "iopub.status.busy": "2023-02-17T11:53:17.664902Z",
     "iopub.status.idle": "2023-02-17T11:53:17.674095Z",
     "shell.execute_reply": "2023-02-17T11:53:17.673224Z"
    },
    "papermill": {
     "duration": 0.01907,
     "end_time": "2023-02-17T11:53:17.676038",
     "exception": false,
     "start_time": "2023-02-17T11:53:17.656968",
     "status": "completed"
    },
    "tags": []
   },
   "outputs": [
    {
     "data": {
      "text/plain": [
       "['▁Hello', ',', '▁my', '▁name', '▁is', '▁Lucas']"
      ]
     },
     "execution_count": 11,
     "metadata": {},
     "output_type": "execute_result"
    }
   ],
   "source": [
    "# You can tokenize some input string\n",
    "tokz.tokenize(\"Hello, my name is Lucas\")"
   ]
  },
  {
   "cell_type": "code",
   "execution_count": 12,
   "id": "e0620b5e",
   "metadata": {
    "execution": {
     "iopub.execute_input": "2023-02-17T11:53:17.691456Z",
     "iopub.status.busy": "2023-02-17T11:53:17.691159Z",
     "iopub.status.idle": "2023-02-17T11:53:17.697949Z",
     "shell.execute_reply": "2023-02-17T11:53:17.697321Z"
    },
    "papermill": {
     "duration": 0.016425,
     "end_time": "2023-02-17T11:53:17.699704",
     "exception": false,
     "start_time": "2023-02-17T11:53:17.683279",
     "status": "completed"
    },
    "tags": []
   },
   "outputs": [
    {
     "data": {
      "text/plain": [
       "[1, 5365, 261, 312, 601, 269, 10876, 2]"
      ]
     },
     "execution_count": 12,
     "metadata": {},
     "output_type": "execute_result"
    }
   ],
   "source": [
    "# Or you can tokenize + numericalise some input string\n",
    "tokz.encode(\"Hello, my name is Lucas\")"
   ]
  },
  {
   "cell_type": "code",
   "execution_count": 13,
   "id": "9e38c940",
   "metadata": {
    "execution": {
     "iopub.execute_input": "2023-02-17T11:53:17.715434Z",
     "iopub.status.busy": "2023-02-17T11:53:17.714607Z",
     "iopub.status.idle": "2023-02-17T11:53:17.722485Z",
     "shell.execute_reply": "2023-02-17T11:53:17.721617Z"
    },
    "papermill": {
     "duration": 0.01768,
     "end_time": "2023-02-17T11:53:17.724452",
     "exception": false,
     "start_time": "2023-02-17T11:53:17.706772",
     "status": "completed"
    },
    "tags": []
   },
   "outputs": [
    {
     "data": {
      "text/plain": [
       "[5365, 261, 312, 601, 269, 10876]"
      ]
     },
     "execution_count": 13,
     "metadata": {},
     "output_type": "execute_result"
    }
   ],
   "source": [
    "# Or we can do it in two steps\n",
    "tokz.convert_tokens_to_ids(tokz.tokenize(\"Hello, my name is Lucas\"))"
   ]
  },
  {
   "cell_type": "code",
   "execution_count": 14,
   "id": "1226361c",
   "metadata": {
    "execution": {
     "iopub.execute_input": "2023-02-17T11:53:17.741256Z",
     "iopub.status.busy": "2023-02-17T11:53:17.739681Z",
     "iopub.status.idle": "2023-02-17T11:53:17.746793Z",
     "shell.execute_reply": "2023-02-17T11:53:17.745805Z"
    },
    "papermill": {
     "duration": 0.017155,
     "end_time": "2023-02-17T11:53:17.748715",
     "exception": false,
     "start_time": "2023-02-17T11:53:17.731560",
     "status": "completed"
    },
    "tags": []
   },
   "outputs": [
    {
     "data": {
      "text/plain": [
       "{'input_ids': [1, 5365, 261, 312, 601, 269, 10876, 2], 'token_type_ids': [0, 0, 0, 0, 0, 0, 0, 0], 'attention_mask': [1, 1, 1, 1, 1, 1, 1, 1]}"
      ]
     },
     "execution_count": 14,
     "metadata": {},
     "output_type": "execute_result"
    }
   ],
   "source": [
    "# Or just call the tokenizer, which gives encodings, as well some other information\n",
    "tokz(\"Hello, my name is Lucas\")"
   ]
  },
  {
   "cell_type": "code",
   "execution_count": 15,
   "id": "7c7459ed",
   "metadata": {
    "execution": {
     "iopub.execute_input": "2023-02-17T11:53:17.764776Z",
     "iopub.status.busy": "2023-02-17T11:53:17.764020Z",
     "iopub.status.idle": "2023-02-17T11:53:17.773078Z",
     "shell.execute_reply": "2023-02-17T11:53:17.772171Z"
    },
    "papermill": {
     "duration": 0.01911,
     "end_time": "2023-02-17T11:53:17.775026",
     "exception": false,
     "start_time": "2023-02-17T11:53:17.755916",
     "status": "completed"
    },
    "tags": []
   },
   "outputs": [
    {
     "data": {
      "text/plain": [
       "{'input': 'A47 [SEP] abatement [SEP] abatement of pollution',\n",
       " 'score': 0.5,\n",
       " '__index_level_0__': 0}"
      ]
     },
     "execution_count": 15,
     "metadata": {},
     "output_type": "execute_result"
    }
   ],
   "source": [
    "ds[0]"
   ]
  },
  {
   "cell_type": "code",
   "execution_count": 16,
   "id": "4dfb574a",
   "metadata": {
    "execution": {
     "iopub.execute_input": "2023-02-17T11:53:17.791248Z",
     "iopub.status.busy": "2023-02-17T11:53:17.790487Z",
     "iopub.status.idle": "2023-02-17T11:53:19.634265Z",
     "shell.execute_reply": "2023-02-17T11:53:19.632896Z"
    },
    "papermill": {
     "duration": 1.854212,
     "end_time": "2023-02-17T11:53:19.636619",
     "exception": false,
     "start_time": "2023-02-17T11:53:17.782407",
     "status": "completed"
    },
    "tags": []
   },
   "outputs": [
    {
     "data": {
      "application/vnd.jupyter.widget-view+json": {
       "model_id": "b685e91929a34927abead042542bc525",
       "version_major": 2,
       "version_minor": 0
      },
      "text/plain": [
       "  0%|          | 0/37 [00:00<?, ?ba/s]"
      ]
     },
     "metadata": {},
     "output_type": "display_data"
    },
    {
     "data": {
      "text/plain": [
       "Dataset({\n",
       "    features: ['input', 'score', '__index_level_0__', 'input_ids', 'token_type_ids', 'attention_mask'],\n",
       "    num_rows: 36473\n",
       "})"
      ]
     },
     "execution_count": 16,
     "metadata": {},
     "output_type": "execute_result"
    }
   ],
   "source": [
    "def tokenize(ds_row): return tokz(ds_row['input'])\n",
    "\n",
    "ds = ds.map(tokenize, batched=True)\n",
    "\n",
    "# Now we have added some fields to the ds\n",
    "ds"
   ]
  },
  {
   "cell_type": "code",
   "execution_count": 17,
   "id": "f7c80a82",
   "metadata": {
    "execution": {
     "iopub.execute_input": "2023-02-17T11:53:19.664659Z",
     "iopub.status.busy": "2023-02-17T11:53:19.664284Z",
     "iopub.status.idle": "2023-02-17T11:53:19.698211Z",
     "shell.execute_reply": "2023-02-17T11:53:19.694235Z"
    },
    "papermill": {
     "duration": 0.055303,
     "end_time": "2023-02-17T11:53:19.703373",
     "exception": false,
     "start_time": "2023-02-17T11:53:19.648070",
     "status": "completed"
    },
    "tags": []
   },
   "outputs": [
    {
     "data": {
      "text/plain": [
       "DatasetDict({\n",
       "    train: Dataset({\n",
       "        features: ['input', 'score', '__index_level_0__', 'input_ids', 'token_type_ids', 'attention_mask'],\n",
       "        num_rows: 29178\n",
       "    })\n",
       "    test: Dataset({\n",
       "        features: ['input', 'score', '__index_level_0__', 'input_ids', 'token_type_ids', 'attention_mask'],\n",
       "        num_rows: 7295\n",
       "    })\n",
       "})"
      ]
     },
     "execution_count": 17,
     "metadata": {},
     "output_type": "execute_result"
    }
   ],
   "source": [
    "# Make splits\n",
    "dss = ds.train_test_split(test_size=0.2, seed=42)\n",
    "dss"
   ]
  },
  {
   "cell_type": "markdown",
   "id": "86b0243a",
   "metadata": {
    "papermill": {
     "duration": 0.011166,
     "end_time": "2023-02-17T11:53:19.732417",
     "exception": false,
     "start_time": "2023-02-17T11:53:19.721251",
     "status": "completed"
    },
    "tags": []
   },
   "source": [
    "### Same for the test set"
   ]
  },
  {
   "cell_type": "code",
   "execution_count": 18,
   "id": "559e2736",
   "metadata": {
    "execution": {
     "iopub.execute_input": "2023-02-17T11:53:19.756669Z",
     "iopub.status.busy": "2023-02-17T11:53:19.756203Z",
     "iopub.status.idle": "2023-02-17T11:53:19.766988Z",
     "shell.execute_reply": "2023-02-17T11:53:19.766187Z"
    },
    "papermill": {
     "duration": 0.025644,
     "end_time": "2023-02-17T11:53:19.769368",
     "exception": false,
     "start_time": "2023-02-17T11:53:19.743724",
     "status": "completed"
    },
    "tags": []
   },
   "outputs": [],
   "source": [
    "def create_dataset(full_path,\n",
    "                   tokz,\n",
    "                   train_set=True,\n",
    "                   test_size=0.25):\n",
    "\n",
    "    df = pd.read_csv(full_path)\n",
    "    \n",
    "    def create_input(row):\n",
    "        return row['context'] + ' [SEP] ' + row['anchor'] + ' [SEP] ' + row['target']\n",
    "    df['input'] = df.apply(create_input, axis=1)\n",
    "    \n",
    "    def tokenize(ds_row): return tokz(ds_row['input'])\n",
    "    \n",
    "    if train_set:\n",
    "        df = df.rename(columns={'score': 'labels'})\n",
    "        ds = Dataset.from_pandas(df[['id', 'input', 'labels']])\n",
    "        ds = ds.map(tokenize)\n",
    "        ds = ds.train_test_split(test_size, seed=42)\n",
    "    else:\n",
    "        ds = Dataset.from_pandas(df[['id', 'input']])\n",
    "        ds = ds.map(tokenize)\n",
    "    \n",
    "    return ds"
   ]
  },
  {
   "cell_type": "code",
   "execution_count": 19,
   "id": "19781d65",
   "metadata": {
    "execution": {
     "iopub.execute_input": "2023-02-17T11:53:19.792000Z",
     "iopub.status.busy": "2023-02-17T11:53:19.791589Z",
     "iopub.status.idle": "2023-02-17T11:53:27.987668Z",
     "shell.execute_reply": "2023-02-17T11:53:27.986803Z"
    },
    "papermill": {
     "duration": 8.20945,
     "end_time": "2023-02-17T11:53:27.989672",
     "exception": false,
     "start_time": "2023-02-17T11:53:19.780222",
     "status": "completed"
    },
    "tags": []
   },
   "outputs": [
    {
     "data": {
      "application/vnd.jupyter.widget-view+json": {
       "model_id": "d75725fedd2f48c79e20f3697b632945",
       "version_major": 2,
       "version_minor": 0
      },
      "text/plain": [
       "  0%|          | 0/36473 [00:00<?, ?ex/s]"
      ]
     },
     "metadata": {},
     "output_type": "display_data"
    },
    {
     "data": {
      "application/vnd.jupyter.widget-view+json": {
       "model_id": "302835942de94383b84998c7e498129c",
       "version_major": 2,
       "version_minor": 0
      },
      "text/plain": [
       "  0%|          | 0/36 [00:00<?, ?ex/s]"
      ]
     },
     "metadata": {},
     "output_type": "display_data"
    }
   ],
   "source": [
    "ds = create_dataset(path/'train.csv', tokz)\n",
    "dst = create_dataset(path/'test.csv', tokz, train_set=False)"
   ]
  },
  {
   "cell_type": "markdown",
   "id": "9872e23d",
   "metadata": {
    "papermill": {
     "duration": 0.007805,
     "end_time": "2023-02-17T11:53:28.005774",
     "exception": false,
     "start_time": "2023-02-17T11:53:27.997969",
     "status": "completed"
    },
    "tags": []
   },
   "source": [
    "### Create the model"
   ]
  },
  {
   "cell_type": "code",
   "execution_count": 20,
   "id": "c5bca4a6",
   "metadata": {
    "execution": {
     "iopub.execute_input": "2023-02-17T11:53:28.023818Z",
     "iopub.status.busy": "2023-02-17T11:53:28.022384Z",
     "iopub.status.idle": "2023-02-17T11:53:34.647514Z",
     "shell.execute_reply": "2023-02-17T11:53:34.646520Z"
    },
    "papermill": {
     "duration": 6.636298,
     "end_time": "2023-02-17T11:53:34.649952",
     "exception": false,
     "start_time": "2023-02-17T11:53:28.013654",
     "status": "completed"
    },
    "tags": []
   },
   "outputs": [],
   "source": [
    "from transformers import TrainingArguments\n",
    "\n",
    "bs = 128\n",
    "epochs = 4\n",
    "lr = 8e-5\n",
    "\n",
    "args = TrainingArguments(\n",
    "    output_dir='outputs', #where to store outputs\n",
    "    learning_rate=lr, #learning rate\n",
    "    warmup_ratio=0.1, #make sure to do something similar to one_cycle policy\n",
    "    lr_scheduler_type='cosine', #make sure to do something similar to one_cycle policy\n",
    "    fp16=True, #use mixed precision\n",
    "    evaluation_strategy=\"epoch\", #evaluate at the end of each epoch\n",
    "    per_device_train_batch_size=bs, #train batch size\n",
    "    per_device_eval_batch_size=bs*2, #eval batch size\n",
    "    num_train_epochs=epochs, #train for number of epochs\n",
    "    weight_decay=0.01,  \n",
    "    report_to='none')"
   ]
  },
  {
   "cell_type": "code",
   "execution_count": 21,
   "id": "97e9cd82",
   "metadata": {
    "execution": {
     "iopub.execute_input": "2023-02-17T11:53:34.669386Z",
     "iopub.status.busy": "2023-02-17T11:53:34.667388Z",
     "iopub.status.idle": "2023-02-17T11:53:39.024433Z",
     "shell.execute_reply": "2023-02-17T11:53:39.022788Z"
    },
    "papermill": {
     "duration": 4.368539,
     "end_time": "2023-02-17T11:53:39.026881",
     "exception": false,
     "start_time": "2023-02-17T11:53:34.658342",
     "status": "completed"
    },
    "tags": []
   },
   "outputs": [
    {
     "name": "stdout",
     "output_type": "stream",
     "text": [
      "huggingface/tokenizers: The current process just got forked, after parallelism has already been used. Disabling parallelism to avoid deadlocks...\n",
      "To disable this warning, you can either:\n",
      "\t- Avoid using `tokenizers` before the fork if possible\n",
      "\t- Explicitly set the environment variable TOKENIZERS_PARALLELISM=(true | false)\n",
      "huggingface/tokenizers: The current process just got forked, after parallelism has already been used. Disabling parallelism to avoid deadlocks...\n",
      "To disable this warning, you can either:\n",
      "\t- Avoid using `tokenizers` before the fork if possible\n",
      "\t- Explicitly set the environment variable TOKENIZERS_PARALLELISM=(true | false)\n",
      "huggingface/tokenizers: The current process just got forked, after parallelism has already been used. Disabling parallelism to avoid deadlocks...\n",
      "To disable this warning, you can either:\n",
      "\t- Avoid using `tokenizers` before the fork if possible\n",
      "\t- Explicitly set the environment variable TOKENIZERS_PARALLELISM=(true | false)\n"
     ]
    },
    {
     "name": "stderr",
     "output_type": "stream",
     "text": [
      "Some weights of the model checkpoint at /kaggle/input/deberta-v3-small/deberta-v3-small were not used when initializing DebertaV2ForSequenceClassification: ['lm_predictions.lm_head.dense.weight', 'mask_predictions.LayerNorm.bias', 'mask_predictions.classifer.bias', 'mask_predictions.dense.weight', 'lm_predictions.lm_head.LayerNorm.weight', 'mask_predictions.classifer.weight', 'mask_predictions.LayerNorm.weight', 'mask_predictions.dense.bias', 'lm_predictions.lm_head.dense.bias', 'lm_predictions.lm_head.bias', 'lm_predictions.lm_head.LayerNorm.bias']\n",
      "- This IS expected if you are initializing DebertaV2ForSequenceClassification from the checkpoint of a model trained on another task or with another architecture (e.g. initializing a BertForSequenceClassification model from a BertForPreTraining model).\n",
      "- This IS NOT expected if you are initializing DebertaV2ForSequenceClassification from the checkpoint of a model that you expect to be exactly identical (initializing a BertForSequenceClassification model from a BertForSequenceClassification model).\n",
      "Some weights of DebertaV2ForSequenceClassification were not initialized from the model checkpoint at /kaggle/input/deberta-v3-small/deberta-v3-small and are newly initialized: ['classifier.weight', 'classifier.bias', 'pooler.dense.weight', 'pooler.dense.bias']\n",
      "You should probably TRAIN this model on a down-stream task to be able to use it for predictions and inference.\n"
     ]
    }
   ],
   "source": [
    "# There are many AutoModelFor... imports, we need the SequenceClassification\n",
    "from transformers import AutoModelForSequenceClassification\n",
    "\n",
    "\n",
    "model = AutoModelForSequenceClassification.from_pretrained(model_nm, num_labels=1)"
   ]
  },
  {
   "cell_type": "code",
   "execution_count": 22,
   "id": "a2bae9a0",
   "metadata": {
    "execution": {
     "iopub.execute_input": "2023-02-17T11:53:39.045092Z",
     "iopub.status.busy": "2023-02-17T11:53:39.044791Z",
     "iopub.status.idle": "2023-02-17T11:53:39.051776Z",
     "shell.execute_reply": "2023-02-17T11:53:39.050931Z"
    },
    "papermill": {
     "duration": 0.01842,
     "end_time": "2023-02-17T11:53:39.053748",
     "exception": false,
     "start_time": "2023-02-17T11:53:39.035328",
     "status": "completed"
    },
    "tags": []
   },
   "outputs": [],
   "source": [
    "def corr(x,y): \n",
    "    '''\n",
    "    Returns the correlation coefficient between x and y (arrays)\n",
    "    '''\n",
    "    return np.corrcoef(x,y)[0][1] \n",
    "\n",
    "\n",
    "def compute_metrics(eval_pred):\n",
    "    '''\n",
    "    Wrapper function to be passed into the HF Trainer\n",
    "    \n",
    "    parameters:\n",
    "        eval_preds: tuple of logits and labels\n",
    "    '''\n",
    "    logits, labels = eval_pred\n",
    "    print(logits.shape)\n",
    "    return {'pearson': corr(logits, labels)}"
   ]
  },
  {
   "cell_type": "code",
   "execution_count": 23,
   "id": "63f70d64",
   "metadata": {
    "execution": {
     "iopub.execute_input": "2023-02-17T11:53:39.071538Z",
     "iopub.status.busy": "2023-02-17T11:53:39.070758Z",
     "iopub.status.idle": "2023-02-17T11:53:43.357019Z",
     "shell.execute_reply": "2023-02-17T11:53:43.355996Z"
    },
    "papermill": {
     "duration": 4.297279,
     "end_time": "2023-02-17T11:53:43.359236",
     "exception": false,
     "start_time": "2023-02-17T11:53:39.061957",
     "status": "completed"
    },
    "tags": []
   },
   "outputs": [
    {
     "name": "stderr",
     "output_type": "stream",
     "text": [
      "Using cuda_amp half precision backend\n"
     ]
    }
   ],
   "source": [
    "from transformers import Trainer\n",
    "\n",
    "trainer = Trainer(\n",
    "    model=model,\n",
    "    args=args,\n",
    "    train_dataset=ds['train'],\n",
    "    eval_dataset=ds['test'],\n",
    "    tokenizer=tokz,\n",
    "    compute_metrics=compute_metrics\n",
    ")"
   ]
  },
  {
   "cell_type": "code",
   "execution_count": 24,
   "id": "231042aa",
   "metadata": {
    "execution": {
     "iopub.execute_input": "2023-02-17T11:53:43.379955Z",
     "iopub.status.busy": "2023-02-17T11:53:43.377437Z",
     "iopub.status.idle": "2023-02-17T11:57:43.424602Z",
     "shell.execute_reply": "2023-02-17T11:57:43.423577Z"
    },
    "papermill": {
     "duration": 240.058815,
     "end_time": "2023-02-17T11:57:43.426811",
     "exception": false,
     "start_time": "2023-02-17T11:53:43.367996",
     "status": "completed"
    },
    "tags": []
   },
   "outputs": [
    {
     "name": "stderr",
     "output_type": "stream",
     "text": [
      "The following columns in the training set don't have a corresponding argument in `DebertaV2ForSequenceClassification.forward` and have been ignored: input, id. If input, id are not expected by `DebertaV2ForSequenceClassification.forward`,  you can safely ignore this message.\n",
      "/opt/conda/lib/python3.7/site-packages/transformers/optimization.py:310: FutureWarning: This implementation of AdamW is deprecated and will be removed in a future version. Use the PyTorch implementation torch.optim.AdamW instead, or set `no_deprecation_warning=True` to disable this warning\n",
      "  FutureWarning,\n",
      "***** Running training *****\n",
      "  Num examples = 27354\n",
      "  Num Epochs = 4\n",
      "  Instantaneous batch size per device = 128\n",
      "  Total train batch size (w. parallel, distributed & accumulation) = 128\n",
      "  Gradient Accumulation steps = 1\n",
      "  Total optimization steps = 856\n"
     ]
    },
    {
     "data": {
      "text/html": [
       "\n",
       "    <div>\n",
       "      \n",
       "      <progress value='856' max='856' style='width:300px; height:20px; vertical-align: middle;'></progress>\n",
       "      [856/856 03:58, Epoch 4/4]\n",
       "    </div>\n",
       "    <table border=\"1\" class=\"dataframe\">\n",
       "  <thead>\n",
       " <tr style=\"text-align: left;\">\n",
       "      <th>Epoch</th>\n",
       "      <th>Training Loss</th>\n",
       "      <th>Validation Loss</th>\n",
       "      <th>Pearson</th>\n",
       "    </tr>\n",
       "  </thead>\n",
       "  <tbody>\n",
       "    <tr>\n",
       "      <td>1</td>\n",
       "      <td>No log</td>\n",
       "      <td>0.027766</td>\n",
       "      <td>0.788748</td>\n",
       "    </tr>\n",
       "    <tr>\n",
       "      <td>2</td>\n",
       "      <td>No log</td>\n",
       "      <td>0.025840</td>\n",
       "      <td>0.819725</td>\n",
       "    </tr>\n",
       "    <tr>\n",
       "      <td>3</td>\n",
       "      <td>0.036300</td>\n",
       "      <td>0.023256</td>\n",
       "      <td>0.828241</td>\n",
       "    </tr>\n",
       "    <tr>\n",
       "      <td>4</td>\n",
       "      <td>0.036300</td>\n",
       "      <td>0.022667</td>\n",
       "      <td>0.829955</td>\n",
       "    </tr>\n",
       "  </tbody>\n",
       "</table><p>"
      ],
      "text/plain": [
       "<IPython.core.display.HTML object>"
      ]
     },
     "metadata": {},
     "output_type": "display_data"
    },
    {
     "name": "stderr",
     "output_type": "stream",
     "text": [
      "The following columns in the evaluation set don't have a corresponding argument in `DebertaV2ForSequenceClassification.forward` and have been ignored: input, id. If input, id are not expected by `DebertaV2ForSequenceClassification.forward`,  you can safely ignore this message.\n",
      "***** Running Evaluation *****\n",
      "  Num examples = 9119\n",
      "  Batch size = 256\n"
     ]
    },
    {
     "name": "stdout",
     "output_type": "stream",
     "text": [
      "(9119,)\n"
     ]
    },
    {
     "name": "stderr",
     "output_type": "stream",
     "text": [
      "The following columns in the evaluation set don't have a corresponding argument in `DebertaV2ForSequenceClassification.forward` and have been ignored: input, id. If input, id are not expected by `DebertaV2ForSequenceClassification.forward`,  you can safely ignore this message.\n",
      "***** Running Evaluation *****\n",
      "  Num examples = 9119\n",
      "  Batch size = 256\n"
     ]
    },
    {
     "name": "stdout",
     "output_type": "stream",
     "text": [
      "(9119,)\n"
     ]
    },
    {
     "name": "stderr",
     "output_type": "stream",
     "text": [
      "Saving model checkpoint to outputs/checkpoint-500\n",
      "Configuration saved in outputs/checkpoint-500/config.json\n",
      "Model weights saved in outputs/checkpoint-500/pytorch_model.bin\n",
      "tokenizer config file saved in outputs/checkpoint-500/tokenizer_config.json\n",
      "Special tokens file saved in outputs/checkpoint-500/special_tokens_map.json\n",
      "The following columns in the evaluation set don't have a corresponding argument in `DebertaV2ForSequenceClassification.forward` and have been ignored: input, id. If input, id are not expected by `DebertaV2ForSequenceClassification.forward`,  you can safely ignore this message.\n",
      "***** Running Evaluation *****\n",
      "  Num examples = 9119\n",
      "  Batch size = 256\n"
     ]
    },
    {
     "name": "stdout",
     "output_type": "stream",
     "text": [
      "(9119,)\n"
     ]
    },
    {
     "name": "stderr",
     "output_type": "stream",
     "text": [
      "The following columns in the evaluation set don't have a corresponding argument in `DebertaV2ForSequenceClassification.forward` and have been ignored: input, id. If input, id are not expected by `DebertaV2ForSequenceClassification.forward`,  you can safely ignore this message.\n",
      "***** Running Evaluation *****\n",
      "  Num examples = 9119\n",
      "  Batch size = 256\n"
     ]
    },
    {
     "name": "stdout",
     "output_type": "stream",
     "text": [
      "(9119,)\n"
     ]
    },
    {
     "name": "stderr",
     "output_type": "stream",
     "text": [
      "\n",
      "\n",
      "Training completed. Do not forget to share your model on huggingface.co/models =)\n",
      "\n",
      "\n"
     ]
    },
    {
     "data": {
      "text/plain": [
       "TrainOutput(global_step=856, training_loss=0.026902480660197892, metrics={'train_runtime': 240.0141, 'train_samples_per_second': 455.873, 'train_steps_per_second': 3.566, 'total_flos': 461822682950400.0, 'train_loss': 0.026902480660197892, 'epoch': 4.0})"
      ]
     },
     "execution_count": 24,
     "metadata": {},
     "output_type": "execute_result"
    }
   ],
   "source": [
    "trainer.train()"
   ]
  },
  {
   "cell_type": "code",
   "execution_count": 25,
   "id": "9d7e3537",
   "metadata": {
    "execution": {
     "iopub.execute_input": "2023-02-17T11:57:43.448850Z",
     "iopub.status.busy": "2023-02-17T11:57:43.448574Z",
     "iopub.status.idle": "2023-02-17T11:57:43.497327Z",
     "shell.execute_reply": "2023-02-17T11:57:43.496434Z"
    },
    "papermill": {
     "duration": 0.062161,
     "end_time": "2023-02-17T11:57:43.499489",
     "exception": false,
     "start_time": "2023-02-17T11:57:43.437328",
     "status": "completed"
    },
    "tags": []
   },
   "outputs": [
    {
     "name": "stderr",
     "output_type": "stream",
     "text": [
      "The following columns in the test set don't have a corresponding argument in `DebertaV2ForSequenceClassification.forward` and have been ignored: input, id. If input, id are not expected by `DebertaV2ForSequenceClassification.forward`,  you can safely ignore this message.\n",
      "***** Running Prediction *****\n",
      "  Num examples = 36\n",
      "  Batch size = 256\n"
     ]
    },
    {
     "data": {
      "text/html": [
       "\n",
       "    <div>\n",
       "      \n",
       "      <progress value='1' max='1' style='width:300px; height:20px; vertical-align: middle;'></progress>\n",
       "      [1/1 : < :]\n",
       "    </div>\n",
       "    "
      ],
      "text/plain": [
       "<IPython.core.display.HTML object>"
      ]
     },
     "metadata": {},
     "output_type": "display_data"
    }
   ],
   "source": [
    "preds = trainer.predict(dst)"
   ]
  },
  {
   "cell_type": "code",
   "execution_count": 26,
   "id": "75f960d0",
   "metadata": {
    "execution": {
     "iopub.execute_input": "2023-02-17T11:57:43.521647Z",
     "iopub.status.busy": "2023-02-17T11:57:43.521383Z",
     "iopub.status.idle": "2023-02-17T11:57:43.526259Z",
     "shell.execute_reply": "2023-02-17T11:57:43.524892Z"
    },
    "papermill": {
     "duration": 0.018367,
     "end_time": "2023-02-17T11:57:43.528286",
     "exception": false,
     "start_time": "2023-02-17T11:57:43.509919",
     "status": "completed"
    },
    "tags": []
   },
   "outputs": [],
   "source": [
    "predictions = preds.predictions.squeeze().astype(float).clip(0,1)"
   ]
  },
  {
   "cell_type": "code",
   "execution_count": 27,
   "id": "d4c46796",
   "metadata": {
    "execution": {
     "iopub.execute_input": "2023-02-17T11:57:43.551658Z",
     "iopub.status.busy": "2023-02-17T11:57:43.550193Z",
     "iopub.status.idle": "2023-02-17T11:57:43.557274Z",
     "shell.execute_reply": "2023-02-17T11:57:43.556189Z"
    },
    "papermill": {
     "duration": 0.021191,
     "end_time": "2023-02-17T11:57:43.559838",
     "exception": false,
     "start_time": "2023-02-17T11:57:43.538647",
     "status": "completed"
    },
    "tags": []
   },
   "outputs": [
    {
     "data": {
      "text/plain": [
       "array([0.52734375, 0.63476562, 0.55859375, 0.25708008, 0.        ,\n",
       "       0.54150391, 0.49780273, 0.        , 0.23571777, 1.        ,\n",
       "       0.18200684, 0.2722168 , 0.79638672, 0.90673828, 0.73681641,\n",
       "       0.44750977, 0.22021484, 0.        , 0.59033203, 0.32617188,\n",
       "       0.39013672, 0.25415039, 0.02389526, 0.23010254, 0.58056641,\n",
       "       0.        , 0.        , 0.        , 0.        , 0.58154297,\n",
       "       0.36279297, 0.01560974, 0.71630859, 0.54638672, 0.4140625 ,\n",
       "       0.20947266])"
      ]
     },
     "execution_count": 27,
     "metadata": {},
     "output_type": "execute_result"
    }
   ],
   "source": [
    "predictions"
   ]
  },
  {
   "cell_type": "code",
   "execution_count": 28,
   "id": "76fada8f",
   "metadata": {
    "execution": {
     "iopub.execute_input": "2023-02-17T11:57:43.581784Z",
     "iopub.status.busy": "2023-02-17T11:57:43.581529Z",
     "iopub.status.idle": "2023-02-17T11:57:43.586679Z",
     "shell.execute_reply": "2023-02-17T11:57:43.585740Z"
    },
    "papermill": {
     "duration": 0.018549,
     "end_time": "2023-02-17T11:57:43.588870",
     "exception": false,
     "start_time": "2023-02-17T11:57:43.570321",
     "status": "completed"
    },
    "tags": []
   },
   "outputs": [],
   "source": [
    "submission = pd.DataFrame.from_dict({\n",
    "    'id': dst['id'],\n",
    "    'score': predictions\n",
    "})"
   ]
  },
  {
   "cell_type": "code",
   "execution_count": 29,
   "id": "af32c2a7",
   "metadata": {
    "execution": {
     "iopub.execute_input": "2023-02-17T11:57:43.611584Z",
     "iopub.status.busy": "2023-02-17T11:57:43.611293Z",
     "iopub.status.idle": "2023-02-17T11:57:43.619730Z",
     "shell.execute_reply": "2023-02-17T11:57:43.618865Z"
    },
    "papermill": {
     "duration": 0.022059,
     "end_time": "2023-02-17T11:57:43.621682",
     "exception": false,
     "start_time": "2023-02-17T11:57:43.599623",
     "status": "completed"
    },
    "tags": []
   },
   "outputs": [],
   "source": [
    "submission.to_csv('submission.csv',index=False)"
   ]
  },
  {
   "cell_type": "code",
   "execution_count": null,
   "id": "b9e69062",
   "metadata": {
    "papermill": {
     "duration": 0.010586,
     "end_time": "2023-02-17T11:57:43.643170",
     "exception": false,
     "start_time": "2023-02-17T11:57:43.632584",
     "status": "completed"
    },
    "tags": []
   },
   "outputs": [],
   "source": []
  }
 ],
 "metadata": {
  "kernelspec": {
   "display_name": "Python 3 (ipykernel)",
   "language": "python",
   "name": "python3"
  },
  "language_info": {
   "codemirror_mode": {
    "name": "ipython",
    "version": 3
   },
   "file_extension": ".py",
   "mimetype": "text/x-python",
   "name": "python",
   "nbconvert_exporter": "python",
   "pygments_lexer": "ipython3",
   "version": "3.9.13"
  },
  "papermill": {
   "default_parameters": {},
   "duration": 280.221219,
   "end_time": "2023-02-17T11:57:46.945747",
   "environment_variables": {},
   "exception": null,
   "input_path": "__notebook__.ipynb",
   "output_path": "__notebook__.ipynb",
   "parameters": {},
   "start_time": "2023-02-17T11:53:06.724528",
   "version": "2.3.4"
  },
  "widgets": {
   "application/vnd.jupyter.widget-state+json": {
    "state": {
     "11ea025f2d4e40e6a2b6ea8b0b29e1a9": {
      "model_module": "@jupyter-widgets/controls",
      "model_module_version": "1.5.0",
      "model_name": "ProgressStyleModel",
      "state": {
       "_model_module": "@jupyter-widgets/controls",
       "_model_module_version": "1.5.0",
       "_model_name": "ProgressStyleModel",
       "_view_count": null,
       "_view_module": "@jupyter-widgets/base",
       "_view_module_version": "1.2.0",
       "_view_name": "StyleView",
       "bar_color": null,
       "description_width": ""
      }
     },
     "1a4cbf5d65044c26b1bf7339a4137d79": {
      "model_module": "@jupyter-widgets/controls",
      "model_module_version": "1.5.0",
      "model_name": "HTMLModel",
      "state": {
       "_dom_classes": [],
       "_model_module": "@jupyter-widgets/controls",
       "_model_module_version": "1.5.0",
       "_model_name": "HTMLModel",
       "_view_count": null,
       "_view_module": "@jupyter-widgets/controls",
       "_view_module_version": "1.5.0",
       "_view_name": "HTMLView",
       "description": "",
       "description_tooltip": null,
       "layout": "IPY_MODEL_8d7f8f4fcd29420a97ec580dcd24d128",
       "placeholder": "​",
       "style": "IPY_MODEL_f13c07d308e34a7babfbe5fa108be8d1",
       "value": "100%"
      }
     },
     "26a7c7f241c74341b2458c8e42dd3f29": {
      "model_module": "@jupyter-widgets/controls",
      "model_module_version": "1.5.0",
      "model_name": "HTMLModel",
      "state": {
       "_dom_classes": [],
       "_model_module": "@jupyter-widgets/controls",
       "_model_module_version": "1.5.0",
       "_model_name": "HTMLModel",
       "_view_count": null,
       "_view_module": "@jupyter-widgets/controls",
       "_view_module_version": "1.5.0",
       "_view_name": "HTMLView",
       "description": "",
       "description_tooltip": null,
       "layout": "IPY_MODEL_391872cc2ebf43e998c6c91b74905e48",
       "placeholder": "​",
       "style": "IPY_MODEL_c6e467f1d3f0436b99321ed24042dc71",
       "value": " 36473/36473 [00:07&lt;00:00, 5214.99ex/s]"
      }
     },
     "2c7ee4e9f5b3410cba51780d0823e85b": {
      "model_module": "@jupyter-widgets/base",
      "model_module_version": "1.2.0",
      "model_name": "LayoutModel",
      "state": {
       "_model_module": "@jupyter-widgets/base",
       "_model_module_version": "1.2.0",
       "_model_name": "LayoutModel",
       "_view_count": null,
       "_view_module": "@jupyter-widgets/base",
       "_view_module_version": "1.2.0",
       "_view_name": "LayoutView",
       "align_content": null,
       "align_items": null,
       "align_self": null,
       "border": null,
       "bottom": null,
       "display": null,
       "flex": null,
       "flex_flow": null,
       "grid_area": null,
       "grid_auto_columns": null,
       "grid_auto_flow": null,
       "grid_auto_rows": null,
       "grid_column": null,
       "grid_gap": null,
       "grid_row": null,
       "grid_template_areas": null,
       "grid_template_columns": null,
       "grid_template_rows": null,
       "height": null,
       "justify_content": null,
       "justify_items": null,
       "left": null,
       "margin": null,
       "max_height": null,
       "max_width": null,
       "min_height": null,
       "min_width": null,
       "object_fit": null,
       "object_position": null,
       "order": null,
       "overflow": null,
       "overflow_x": null,
       "overflow_y": null,
       "padding": null,
       "right": null,
       "top": null,
       "visibility": null,
       "width": null
      }
     },
     "2f9197977a86479180e5cfe94ef393a2": {
      "model_module": "@jupyter-widgets/controls",
      "model_module_version": "1.5.0",
      "model_name": "DescriptionStyleModel",
      "state": {
       "_model_module": "@jupyter-widgets/controls",
       "_model_module_version": "1.5.0",
       "_model_name": "DescriptionStyleModel",
       "_view_count": null,
       "_view_module": "@jupyter-widgets/base",
       "_view_module_version": "1.2.0",
       "_view_name": "StyleView",
       "description_width": ""
      }
     },
     "302835942de94383b84998c7e498129c": {
      "model_module": "@jupyter-widgets/controls",
      "model_module_version": "1.5.0",
      "model_name": "HBoxModel",
      "state": {
       "_dom_classes": [],
       "_model_module": "@jupyter-widgets/controls",
       "_model_module_version": "1.5.0",
       "_model_name": "HBoxModel",
       "_view_count": null,
       "_view_module": "@jupyter-widgets/controls",
       "_view_module_version": "1.5.0",
       "_view_name": "HBoxView",
       "box_style": "",
       "children": [
        "IPY_MODEL_ff575cc3b93d4db8b8de3b5a1c25952a",
        "IPY_MODEL_3289b778000e4d5996f629b0caed287e",
        "IPY_MODEL_b1895ed428b5456dbb04705c9e19793c"
       ],
       "layout": "IPY_MODEL_9c22a22286c34cc68f40939ae008cc0d"
      }
     },
     "3289b778000e4d5996f629b0caed287e": {
      "model_module": "@jupyter-widgets/controls",
      "model_module_version": "1.5.0",
      "model_name": "FloatProgressModel",
      "state": {
       "_dom_classes": [],
       "_model_module": "@jupyter-widgets/controls",
       "_model_module_version": "1.5.0",
       "_model_name": "FloatProgressModel",
       "_view_count": null,
       "_view_module": "@jupyter-widgets/controls",
       "_view_module_version": "1.5.0",
       "_view_name": "ProgressView",
       "bar_style": "success",
       "description": "",
       "description_tooltip": null,
       "layout": "IPY_MODEL_7b13631e4bb84e98af43ef172d94e165",
       "max": 36,
       "min": 0,
       "orientation": "horizontal",
       "style": "IPY_MODEL_11ea025f2d4e40e6a2b6ea8b0b29e1a9",
       "value": 36
      }
     },
     "334f22f09c17452fb6a0281c27694d0a": {
      "model_module": "@jupyter-widgets/controls",
      "model_module_version": "1.5.0",
      "model_name": "ProgressStyleModel",
      "state": {
       "_model_module": "@jupyter-widgets/controls",
       "_model_module_version": "1.5.0",
       "_model_name": "ProgressStyleModel",
       "_view_count": null,
       "_view_module": "@jupyter-widgets/base",
       "_view_module_version": "1.2.0",
       "_view_name": "StyleView",
       "bar_color": null,
       "description_width": ""
      }
     },
     "391872cc2ebf43e998c6c91b74905e48": {
      "model_module": "@jupyter-widgets/base",
      "model_module_version": "1.2.0",
      "model_name": "LayoutModel",
      "state": {
       "_model_module": "@jupyter-widgets/base",
       "_model_module_version": "1.2.0",
       "_model_name": "LayoutModel",
       "_view_count": null,
       "_view_module": "@jupyter-widgets/base",
       "_view_module_version": "1.2.0",
       "_view_name": "LayoutView",
       "align_content": null,
       "align_items": null,
       "align_self": null,
       "border": null,
       "bottom": null,
       "display": null,
       "flex": null,
       "flex_flow": null,
       "grid_area": null,
       "grid_auto_columns": null,
       "grid_auto_flow": null,
       "grid_auto_rows": null,
       "grid_column": null,
       "grid_gap": null,
       "grid_row": null,
       "grid_template_areas": null,
       "grid_template_columns": null,
       "grid_template_rows": null,
       "height": null,
       "justify_content": null,
       "justify_items": null,
       "left": null,
       "margin": null,
       "max_height": null,
       "max_width": null,
       "min_height": null,
       "min_width": null,
       "object_fit": null,
       "object_position": null,
       "order": null,
       "overflow": null,
       "overflow_x": null,
       "overflow_y": null,
       "padding": null,
       "right": null,
       "top": null,
       "visibility": null,
       "width": null
      }
     },
     "3fa512c22dc74a8c852beb93c9fffa05": {
      "model_module": "@jupyter-widgets/base",
      "model_module_version": "1.2.0",
      "model_name": "LayoutModel",
      "state": {
       "_model_module": "@jupyter-widgets/base",
       "_model_module_version": "1.2.0",
       "_model_name": "LayoutModel",
       "_view_count": null,
       "_view_module": "@jupyter-widgets/base",
       "_view_module_version": "1.2.0",
       "_view_name": "LayoutView",
       "align_content": null,
       "align_items": null,
       "align_self": null,
       "border": null,
       "bottom": null,
       "display": null,
       "flex": null,
       "flex_flow": null,
       "grid_area": null,
       "grid_auto_columns": null,
       "grid_auto_flow": null,
       "grid_auto_rows": null,
       "grid_column": null,
       "grid_gap": null,
       "grid_row": null,
       "grid_template_areas": null,
       "grid_template_columns": null,
       "grid_template_rows": null,
       "height": null,
       "justify_content": null,
       "justify_items": null,
       "left": null,
       "margin": null,
       "max_height": null,
       "max_width": null,
       "min_height": null,
       "min_width": null,
       "object_fit": null,
       "object_position": null,
       "order": null,
       "overflow": null,
       "overflow_x": null,
       "overflow_y": null,
       "padding": null,
       "right": null,
       "top": null,
       "visibility": null,
       "width": null
      }
     },
     "3fcc075a72154e1ea19b8b50863d9efa": {
      "model_module": "@jupyter-widgets/controls",
      "model_module_version": "1.5.0",
      "model_name": "FloatProgressModel",
      "state": {
       "_dom_classes": [],
       "_model_module": "@jupyter-widgets/controls",
       "_model_module_version": "1.5.0",
       "_model_name": "FloatProgressModel",
       "_view_count": null,
       "_view_module": "@jupyter-widgets/controls",
       "_view_module_version": "1.5.0",
       "_view_name": "ProgressView",
       "bar_style": "success",
       "description": "",
       "description_tooltip": null,
       "layout": "IPY_MODEL_a9dc11603e1f4543b12dbe19d43ab12f",
       "max": 37,
       "min": 0,
       "orientation": "horizontal",
       "style": "IPY_MODEL_334f22f09c17452fb6a0281c27694d0a",
       "value": 37
      }
     },
     "4419dfb04f014fd48492ae7b575832ce": {
      "model_module": "@jupyter-widgets/base",
      "model_module_version": "1.2.0",
      "model_name": "LayoutModel",
      "state": {
       "_model_module": "@jupyter-widgets/base",
       "_model_module_version": "1.2.0",
       "_model_name": "LayoutModel",
       "_view_count": null,
       "_view_module": "@jupyter-widgets/base",
       "_view_module_version": "1.2.0",
       "_view_name": "LayoutView",
       "align_content": null,
       "align_items": null,
       "align_self": null,
       "border": null,
       "bottom": null,
       "display": null,
       "flex": null,
       "flex_flow": null,
       "grid_area": null,
       "grid_auto_columns": null,
       "grid_auto_flow": null,
       "grid_auto_rows": null,
       "grid_column": null,
       "grid_gap": null,
       "grid_row": null,
       "grid_template_areas": null,
       "grid_template_columns": null,
       "grid_template_rows": null,
       "height": null,
       "justify_content": null,
       "justify_items": null,
       "left": null,
       "margin": null,
       "max_height": null,
       "max_width": null,
       "min_height": null,
       "min_width": null,
       "object_fit": null,
       "object_position": null,
       "order": null,
       "overflow": null,
       "overflow_x": null,
       "overflow_y": null,
       "padding": null,
       "right": null,
       "top": null,
       "visibility": null,
       "width": null
      }
     },
     "62789294de80489297df4996e73b3a39": {
      "model_module": "@jupyter-widgets/base",
      "model_module_version": "1.2.0",
      "model_name": "LayoutModel",
      "state": {
       "_model_module": "@jupyter-widgets/base",
       "_model_module_version": "1.2.0",
       "_model_name": "LayoutModel",
       "_view_count": null,
       "_view_module": "@jupyter-widgets/base",
       "_view_module_version": "1.2.0",
       "_view_name": "LayoutView",
       "align_content": null,
       "align_items": null,
       "align_self": null,
       "border": null,
       "bottom": null,
       "display": null,
       "flex": null,
       "flex_flow": null,
       "grid_area": null,
       "grid_auto_columns": null,
       "grid_auto_flow": null,
       "grid_auto_rows": null,
       "grid_column": null,
       "grid_gap": null,
       "grid_row": null,
       "grid_template_areas": null,
       "grid_template_columns": null,
       "grid_template_rows": null,
       "height": null,
       "justify_content": null,
       "justify_items": null,
       "left": null,
       "margin": null,
       "max_height": null,
       "max_width": null,
       "min_height": null,
       "min_width": null,
       "object_fit": null,
       "object_position": null,
       "order": null,
       "overflow": null,
       "overflow_x": null,
       "overflow_y": null,
       "padding": null,
       "right": null,
       "top": null,
       "visibility": null,
       "width": null
      }
     },
     "6a213479ec544557915327b70ae4e234": {
      "model_module": "@jupyter-widgets/controls",
      "model_module_version": "1.5.0",
      "model_name": "HTMLModel",
      "state": {
       "_dom_classes": [],
       "_model_module": "@jupyter-widgets/controls",
       "_model_module_version": "1.5.0",
       "_model_name": "HTMLModel",
       "_view_count": null,
       "_view_module": "@jupyter-widgets/controls",
       "_view_module_version": "1.5.0",
       "_view_name": "HTMLView",
       "description": "",
       "description_tooltip": null,
       "layout": "IPY_MODEL_4419dfb04f014fd48492ae7b575832ce",
       "placeholder": "​",
       "style": "IPY_MODEL_f3c7183628674cebbf3e8bcbd308e6cc",
       "value": " 37/37 [00:01&lt;00:00, 18.05ba/s]"
      }
     },
     "705a0bd5e3094306b168f8add00008a0": {
      "model_module": "@jupyter-widgets/base",
      "model_module_version": "1.2.0",
      "model_name": "LayoutModel",
      "state": {
       "_model_module": "@jupyter-widgets/base",
       "_model_module_version": "1.2.0",
       "_model_name": "LayoutModel",
       "_view_count": null,
       "_view_module": "@jupyter-widgets/base",
       "_view_module_version": "1.2.0",
       "_view_name": "LayoutView",
       "align_content": null,
       "align_items": null,
       "align_self": null,
       "border": null,
       "bottom": null,
       "display": null,
       "flex": null,
       "flex_flow": null,
       "grid_area": null,
       "grid_auto_columns": null,
       "grid_auto_flow": null,
       "grid_auto_rows": null,
       "grid_column": null,
       "grid_gap": null,
       "grid_row": null,
       "grid_template_areas": null,
       "grid_template_columns": null,
       "grid_template_rows": null,
       "height": null,
       "justify_content": null,
       "justify_items": null,
       "left": null,
       "margin": null,
       "max_height": null,
       "max_width": null,
       "min_height": null,
       "min_width": null,
       "object_fit": null,
       "object_position": null,
       "order": null,
       "overflow": null,
       "overflow_x": null,
       "overflow_y": null,
       "padding": null,
       "right": null,
       "top": null,
       "visibility": null,
       "width": null
      }
     },
     "72ce56b1671746cd82ca685f5b33031d": {
      "model_module": "@jupyter-widgets/controls",
      "model_module_version": "1.5.0",
      "model_name": "DescriptionStyleModel",
      "state": {
       "_model_module": "@jupyter-widgets/controls",
       "_model_module_version": "1.5.0",
       "_model_name": "DescriptionStyleModel",
       "_view_count": null,
       "_view_module": "@jupyter-widgets/base",
       "_view_module_version": "1.2.0",
       "_view_name": "StyleView",
       "description_width": ""
      }
     },
     "7b13631e4bb84e98af43ef172d94e165": {
      "model_module": "@jupyter-widgets/base",
      "model_module_version": "1.2.0",
      "model_name": "LayoutModel",
      "state": {
       "_model_module": "@jupyter-widgets/base",
       "_model_module_version": "1.2.0",
       "_model_name": "LayoutModel",
       "_view_count": null,
       "_view_module": "@jupyter-widgets/base",
       "_view_module_version": "1.2.0",
       "_view_name": "LayoutView",
       "align_content": null,
       "align_items": null,
       "align_self": null,
       "border": null,
       "bottom": null,
       "display": null,
       "flex": null,
       "flex_flow": null,
       "grid_area": null,
       "grid_auto_columns": null,
       "grid_auto_flow": null,
       "grid_auto_rows": null,
       "grid_column": null,
       "grid_gap": null,
       "grid_row": null,
       "grid_template_areas": null,
       "grid_template_columns": null,
       "grid_template_rows": null,
       "height": null,
       "justify_content": null,
       "justify_items": null,
       "left": null,
       "margin": null,
       "max_height": null,
       "max_width": null,
       "min_height": null,
       "min_width": null,
       "object_fit": null,
       "object_position": null,
       "order": null,
       "overflow": null,
       "overflow_x": null,
       "overflow_y": null,
       "padding": null,
       "right": null,
       "top": null,
       "visibility": null,
       "width": null
      }
     },
     "8d7f8f4fcd29420a97ec580dcd24d128": {
      "model_module": "@jupyter-widgets/base",
      "model_module_version": "1.2.0",
      "model_name": "LayoutModel",
      "state": {
       "_model_module": "@jupyter-widgets/base",
       "_model_module_version": "1.2.0",
       "_model_name": "LayoutModel",
       "_view_count": null,
       "_view_module": "@jupyter-widgets/base",
       "_view_module_version": "1.2.0",
       "_view_name": "LayoutView",
       "align_content": null,
       "align_items": null,
       "align_self": null,
       "border": null,
       "bottom": null,
       "display": null,
       "flex": null,
       "flex_flow": null,
       "grid_area": null,
       "grid_auto_columns": null,
       "grid_auto_flow": null,
       "grid_auto_rows": null,
       "grid_column": null,
       "grid_gap": null,
       "grid_row": null,
       "grid_template_areas": null,
       "grid_template_columns": null,
       "grid_template_rows": null,
       "height": null,
       "justify_content": null,
       "justify_items": null,
       "left": null,
       "margin": null,
       "max_height": null,
       "max_width": null,
       "min_height": null,
       "min_width": null,
       "object_fit": null,
       "object_position": null,
       "order": null,
       "overflow": null,
       "overflow_x": null,
       "overflow_y": null,
       "padding": null,
       "right": null,
       "top": null,
       "visibility": null,
       "width": null
      }
     },
     "9c22a22286c34cc68f40939ae008cc0d": {
      "model_module": "@jupyter-widgets/base",
      "model_module_version": "1.2.0",
      "model_name": "LayoutModel",
      "state": {
       "_model_module": "@jupyter-widgets/base",
       "_model_module_version": "1.2.0",
       "_model_name": "LayoutModel",
       "_view_count": null,
       "_view_module": "@jupyter-widgets/base",
       "_view_module_version": "1.2.0",
       "_view_name": "LayoutView",
       "align_content": null,
       "align_items": null,
       "align_self": null,
       "border": null,
       "bottom": null,
       "display": null,
       "flex": null,
       "flex_flow": null,
       "grid_area": null,
       "grid_auto_columns": null,
       "grid_auto_flow": null,
       "grid_auto_rows": null,
       "grid_column": null,
       "grid_gap": null,
       "grid_row": null,
       "grid_template_areas": null,
       "grid_template_columns": null,
       "grid_template_rows": null,
       "height": null,
       "justify_content": null,
       "justify_items": null,
       "left": null,
       "margin": null,
       "max_height": null,
       "max_width": null,
       "min_height": null,
       "min_width": null,
       "object_fit": null,
       "object_position": null,
       "order": null,
       "overflow": null,
       "overflow_x": null,
       "overflow_y": null,
       "padding": null,
       "right": null,
       "top": null,
       "visibility": null,
       "width": null
      }
     },
     "a9dc11603e1f4543b12dbe19d43ab12f": {
      "model_module": "@jupyter-widgets/base",
      "model_module_version": "1.2.0",
      "model_name": "LayoutModel",
      "state": {
       "_model_module": "@jupyter-widgets/base",
       "_model_module_version": "1.2.0",
       "_model_name": "LayoutModel",
       "_view_count": null,
       "_view_module": "@jupyter-widgets/base",
       "_view_module_version": "1.2.0",
       "_view_name": "LayoutView",
       "align_content": null,
       "align_items": null,
       "align_self": null,
       "border": null,
       "bottom": null,
       "display": null,
       "flex": null,
       "flex_flow": null,
       "grid_area": null,
       "grid_auto_columns": null,
       "grid_auto_flow": null,
       "grid_auto_rows": null,
       "grid_column": null,
       "grid_gap": null,
       "grid_row": null,
       "grid_template_areas": null,
       "grid_template_columns": null,
       "grid_template_rows": null,
       "height": null,
       "justify_content": null,
       "justify_items": null,
       "left": null,
       "margin": null,
       "max_height": null,
       "max_width": null,
       "min_height": null,
       "min_width": null,
       "object_fit": null,
       "object_position": null,
       "order": null,
       "overflow": null,
       "overflow_x": null,
       "overflow_y": null,
       "padding": null,
       "right": null,
       "top": null,
       "visibility": null,
       "width": null
      }
     },
     "ab00e498a89a4e1eb9b6c6e3c50ae376": {
      "model_module": "@jupyter-widgets/base",
      "model_module_version": "1.2.0",
      "model_name": "LayoutModel",
      "state": {
       "_model_module": "@jupyter-widgets/base",
       "_model_module_version": "1.2.0",
       "_model_name": "LayoutModel",
       "_view_count": null,
       "_view_module": "@jupyter-widgets/base",
       "_view_module_version": "1.2.0",
       "_view_name": "LayoutView",
       "align_content": null,
       "align_items": null,
       "align_self": null,
       "border": null,
       "bottom": null,
       "display": null,
       "flex": null,
       "flex_flow": null,
       "grid_area": null,
       "grid_auto_columns": null,
       "grid_auto_flow": null,
       "grid_auto_rows": null,
       "grid_column": null,
       "grid_gap": null,
       "grid_row": null,
       "grid_template_areas": null,
       "grid_template_columns": null,
       "grid_template_rows": null,
       "height": null,
       "justify_content": null,
       "justify_items": null,
       "left": null,
       "margin": null,
       "max_height": null,
       "max_width": null,
       "min_height": null,
       "min_width": null,
       "object_fit": null,
       "object_position": null,
       "order": null,
       "overflow": null,
       "overflow_x": null,
       "overflow_y": null,
       "padding": null,
       "right": null,
       "top": null,
       "visibility": null,
       "width": null
      }
     },
     "ac79014cdef1465e95cf391f43e48668": {
      "model_module": "@jupyter-widgets/controls",
      "model_module_version": "1.5.0",
      "model_name": "HTMLModel",
      "state": {
       "_dom_classes": [],
       "_model_module": "@jupyter-widgets/controls",
       "_model_module_version": "1.5.0",
       "_model_name": "HTMLModel",
       "_view_count": null,
       "_view_module": "@jupyter-widgets/controls",
       "_view_module_version": "1.5.0",
       "_view_name": "HTMLView",
       "description": "",
       "description_tooltip": null,
       "layout": "IPY_MODEL_2c7ee4e9f5b3410cba51780d0823e85b",
       "placeholder": "​",
       "style": "IPY_MODEL_72ce56b1671746cd82ca685f5b33031d",
       "value": "100%"
      }
     },
     "b1895ed428b5456dbb04705c9e19793c": {
      "model_module": "@jupyter-widgets/controls",
      "model_module_version": "1.5.0",
      "model_name": "HTMLModel",
      "state": {
       "_dom_classes": [],
       "_model_module": "@jupyter-widgets/controls",
       "_model_module_version": "1.5.0",
       "_model_name": "HTMLModel",
       "_view_count": null,
       "_view_module": "@jupyter-widgets/controls",
       "_view_module_version": "1.5.0",
       "_view_name": "HTMLView",
       "description": "",
       "description_tooltip": null,
       "layout": "IPY_MODEL_ab00e498a89a4e1eb9b6c6e3c50ae376",
       "placeholder": "​",
       "style": "IPY_MODEL_e293b4ce47804fb8bd78cb5a93943b08",
       "value": " 36/36 [00:00&lt;00:00, 1053.02ex/s]"
      }
     },
     "b685e91929a34927abead042542bc525": {
      "model_module": "@jupyter-widgets/controls",
      "model_module_version": "1.5.0",
      "model_name": "HBoxModel",
      "state": {
       "_dom_classes": [],
       "_model_module": "@jupyter-widgets/controls",
       "_model_module_version": "1.5.0",
       "_model_name": "HBoxModel",
       "_view_count": null,
       "_view_module": "@jupyter-widgets/controls",
       "_view_module_version": "1.5.0",
       "_view_name": "HBoxView",
       "box_style": "",
       "children": [
        "IPY_MODEL_ac79014cdef1465e95cf391f43e48668",
        "IPY_MODEL_3fcc075a72154e1ea19b8b50863d9efa",
        "IPY_MODEL_6a213479ec544557915327b70ae4e234"
       ],
       "layout": "IPY_MODEL_705a0bd5e3094306b168f8add00008a0"
      }
     },
     "bf45e14013d54a9693ef4050403b9f8d": {
      "model_module": "@jupyter-widgets/controls",
      "model_module_version": "1.5.0",
      "model_name": "FloatProgressModel",
      "state": {
       "_dom_classes": [],
       "_model_module": "@jupyter-widgets/controls",
       "_model_module_version": "1.5.0",
       "_model_name": "FloatProgressModel",
       "_view_count": null,
       "_view_module": "@jupyter-widgets/controls",
       "_view_module_version": "1.5.0",
       "_view_name": "ProgressView",
       "bar_style": "success",
       "description": "",
       "description_tooltip": null,
       "layout": "IPY_MODEL_ce21b917b43841ba9d308165eb95f21a",
       "max": 36473,
       "min": 0,
       "orientation": "horizontal",
       "style": "IPY_MODEL_d198144847424ab282fb60bf10ab1984",
       "value": 36473
      }
     },
     "c6e467f1d3f0436b99321ed24042dc71": {
      "model_module": "@jupyter-widgets/controls",
      "model_module_version": "1.5.0",
      "model_name": "DescriptionStyleModel",
      "state": {
       "_model_module": "@jupyter-widgets/controls",
       "_model_module_version": "1.5.0",
       "_model_name": "DescriptionStyleModel",
       "_view_count": null,
       "_view_module": "@jupyter-widgets/base",
       "_view_module_version": "1.2.0",
       "_view_name": "StyleView",
       "description_width": ""
      }
     },
     "ce21b917b43841ba9d308165eb95f21a": {
      "model_module": "@jupyter-widgets/base",
      "model_module_version": "1.2.0",
      "model_name": "LayoutModel",
      "state": {
       "_model_module": "@jupyter-widgets/base",
       "_model_module_version": "1.2.0",
       "_model_name": "LayoutModel",
       "_view_count": null,
       "_view_module": "@jupyter-widgets/base",
       "_view_module_version": "1.2.0",
       "_view_name": "LayoutView",
       "align_content": null,
       "align_items": null,
       "align_self": null,
       "border": null,
       "bottom": null,
       "display": null,
       "flex": null,
       "flex_flow": null,
       "grid_area": null,
       "grid_auto_columns": null,
       "grid_auto_flow": null,
       "grid_auto_rows": null,
       "grid_column": null,
       "grid_gap": null,
       "grid_row": null,
       "grid_template_areas": null,
       "grid_template_columns": null,
       "grid_template_rows": null,
       "height": null,
       "justify_content": null,
       "justify_items": null,
       "left": null,
       "margin": null,
       "max_height": null,
       "max_width": null,
       "min_height": null,
       "min_width": null,
       "object_fit": null,
       "object_position": null,
       "order": null,
       "overflow": null,
       "overflow_x": null,
       "overflow_y": null,
       "padding": null,
       "right": null,
       "top": null,
       "visibility": null,
       "width": null
      }
     },
     "d198144847424ab282fb60bf10ab1984": {
      "model_module": "@jupyter-widgets/controls",
      "model_module_version": "1.5.0",
      "model_name": "ProgressStyleModel",
      "state": {
       "_model_module": "@jupyter-widgets/controls",
       "_model_module_version": "1.5.0",
       "_model_name": "ProgressStyleModel",
       "_view_count": null,
       "_view_module": "@jupyter-widgets/base",
       "_view_module_version": "1.2.0",
       "_view_name": "StyleView",
       "bar_color": null,
       "description_width": ""
      }
     },
     "d75725fedd2f48c79e20f3697b632945": {
      "model_module": "@jupyter-widgets/controls",
      "model_module_version": "1.5.0",
      "model_name": "HBoxModel",
      "state": {
       "_dom_classes": [],
       "_model_module": "@jupyter-widgets/controls",
       "_model_module_version": "1.5.0",
       "_model_name": "HBoxModel",
       "_view_count": null,
       "_view_module": "@jupyter-widgets/controls",
       "_view_module_version": "1.5.0",
       "_view_name": "HBoxView",
       "box_style": "",
       "children": [
        "IPY_MODEL_1a4cbf5d65044c26b1bf7339a4137d79",
        "IPY_MODEL_bf45e14013d54a9693ef4050403b9f8d",
        "IPY_MODEL_26a7c7f241c74341b2458c8e42dd3f29"
       ],
       "layout": "IPY_MODEL_3fa512c22dc74a8c852beb93c9fffa05"
      }
     },
     "e293b4ce47804fb8bd78cb5a93943b08": {
      "model_module": "@jupyter-widgets/controls",
      "model_module_version": "1.5.0",
      "model_name": "DescriptionStyleModel",
      "state": {
       "_model_module": "@jupyter-widgets/controls",
       "_model_module_version": "1.5.0",
       "_model_name": "DescriptionStyleModel",
       "_view_count": null,
       "_view_module": "@jupyter-widgets/base",
       "_view_module_version": "1.2.0",
       "_view_name": "StyleView",
       "description_width": ""
      }
     },
     "f13c07d308e34a7babfbe5fa108be8d1": {
      "model_module": "@jupyter-widgets/controls",
      "model_module_version": "1.5.0",
      "model_name": "DescriptionStyleModel",
      "state": {
       "_model_module": "@jupyter-widgets/controls",
       "_model_module_version": "1.5.0",
       "_model_name": "DescriptionStyleModel",
       "_view_count": null,
       "_view_module": "@jupyter-widgets/base",
       "_view_module_version": "1.2.0",
       "_view_name": "StyleView",
       "description_width": ""
      }
     },
     "f3c7183628674cebbf3e8bcbd308e6cc": {
      "model_module": "@jupyter-widgets/controls",
      "model_module_version": "1.5.0",
      "model_name": "DescriptionStyleModel",
      "state": {
       "_model_module": "@jupyter-widgets/controls",
       "_model_module_version": "1.5.0",
       "_model_name": "DescriptionStyleModel",
       "_view_count": null,
       "_view_module": "@jupyter-widgets/base",
       "_view_module_version": "1.2.0",
       "_view_name": "StyleView",
       "description_width": ""
      }
     },
     "ff575cc3b93d4db8b8de3b5a1c25952a": {
      "model_module": "@jupyter-widgets/controls",
      "model_module_version": "1.5.0",
      "model_name": "HTMLModel",
      "state": {
       "_dom_classes": [],
       "_model_module": "@jupyter-widgets/controls",
       "_model_module_version": "1.5.0",
       "_model_name": "HTMLModel",
       "_view_count": null,
       "_view_module": "@jupyter-widgets/controls",
       "_view_module_version": "1.5.0",
       "_view_name": "HTMLView",
       "description": "",
       "description_tooltip": null,
       "layout": "IPY_MODEL_62789294de80489297df4996e73b3a39",
       "placeholder": "​",
       "style": "IPY_MODEL_2f9197977a86479180e5cfe94ef393a2",
       "value": "100%"
      }
     }
    },
    "version_major": 2,
    "version_minor": 0
   }
  }
 },
 "nbformat": 4,
 "nbformat_minor": 5
}
