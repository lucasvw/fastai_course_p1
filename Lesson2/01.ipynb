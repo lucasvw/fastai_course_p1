{
 "cells": [
  {
   "cell_type": "code",
   "execution_count": 1,
   "id": "b2239cd6-cdb6-4f0d-9675-a33e0c601df0",
   "metadata": {},
   "outputs": [],
   "source": [
    "#|default_exp app"
   ]
  },
  {
   "cell_type": "markdown",
   "id": "c67157e1-5b05-49b9-90cc-2f2fefe03845",
   "metadata": {},
   "source": [
    "1. go to huggingface.co/spaces\n",
    "2. create a new space (gradio)\n",
    "3. git clone to local\n",
    "4. copy paste the default code provided by huggingface\n",
    "5. commit and push\n",
    "6. check whether everything works fine\n",
    "\n",
    "Great, now let's make it a deep learning inference app"
   ]
  },
  {
   "cell_type": "markdown",
   "id": "588be552-7bc2-4f44-81a2-455714931d40",
   "metadata": {},
   "source": [
    "1. copy over the model.pkl file from Lesson1\n",
    "2. add the #|export the cells to be exported to app.py"
   ]
  },
  {
   "cell_type": "code",
   "execution_count": 2,
   "id": "f5e24556-2d1b-4971-9394-f0ac06a58935",
   "metadata": {},
   "outputs": [],
   "source": [
    "#|export\n",
    "from fastai.vision.all import *"
   ]
  },
  {
   "cell_type": "code",
   "execution_count": 3,
   "id": "eb6def77-d7a6-415b-bc2a-9b63bba8dc1f",
   "metadata": {},
   "outputs": [],
   "source": [
    "#|export\n",
    "learner = load_learner('model.pkl')"
   ]
  },
  {
   "cell_type": "code",
   "execution_count": 4,
   "id": "64003577-a268-4700-b468-920ec7c4943e",
   "metadata": {},
   "outputs": [],
   "source": [
    "#|export\n",
    "labels = learner.dls.vocab\n",
    "def predict(img):\n",
    "    img = PILImage.create(img)\n",
    "    pred,pred_idx,probs = learner.predict(img)\n",
    "    return {labels[i]: float(probs[i]) for i in range(len(labels))}"
   ]
  },
  {
   "cell_type": "code",
   "execution_count": 6,
   "id": "8779253d-e129-44fb-b84d-8cfcac20ac39",
   "metadata": {},
   "outputs": [
    {
     "data": {
      "text/html": [
       "\n",
       "<style>\n",
       "    /* Turns off some styling */\n",
       "    progress {\n",
       "        /* gets rid of default border in Firefox and Opera. */\n",
       "        border: none;\n",
       "        /* Needs to be in here for Safari polyfill so background images work as expected. */\n",
       "        background-size: auto;\n",
       "    }\n",
       "    progress:not([value]), progress:not([value])::-webkit-progress-bar {\n",
       "        background: repeating-linear-gradient(45deg, #7e7e7e, #7e7e7e 10px, #5c5c5c 10px, #5c5c5c 20px);\n",
       "    }\n",
       "    .progress-bar-interrupted, .progress-bar-interrupted::-webkit-progress-bar {\n",
       "        background: #F44336;\n",
       "    }\n",
       "</style>\n"
      ],
      "text/plain": [
       "<IPython.core.display.HTML object>"
      ]
     },
     "metadata": {},
     "output_type": "display_data"
    },
    {
     "data": {
      "text/html": [],
      "text/plain": [
       "<IPython.core.display.HTML object>"
      ]
     },
     "metadata": {},
     "output_type": "display_data"
    },
    {
     "data": {
      "text/plain": [
       "{'gravel_bike': 0.006325729191303253, 'road_bike': 0.9936742782592773}"
      ]
     },
     "execution_count": 6,
     "metadata": {},
     "output_type": "execute_result"
    }
   ],
   "source": [
    "predict('/root/bikes/bike.jpg')"
   ]
  },
  {
   "cell_type": "code",
   "execution_count": 7,
   "id": "a4aee922-6c7f-4f8f-b663-c1c3fbe6c6c1",
   "metadata": {},
   "outputs": [],
   "source": [
    "#|export\n",
    "import gradio as gr"
   ]
  },
  {
   "cell_type": "code",
   "execution_count": 14,
   "id": "100eb6a2-5353-4823-acc1-0451f817d9fe",
   "metadata": {},
   "outputs": [
    {
     "name": "stdout",
     "output_type": "stream",
     "text": [
      "Running on local URL:  http://127.0.0.1:7861\n",
      "\n",
      "To create a public link, set `share=True` in `launch()`.\n"
     ]
    },
    {
     "data": {
      "text/plain": []
     },
     "execution_count": 14,
     "metadata": {},
     "output_type": "execute_result"
    }
   ],
   "source": [
    "#|export\n",
    "image = gr.inputs.Image(shape=(512, 512))\n",
    "outputs = gr.outputs.Label(num_top_classes=3)\n",
    "\n",
    "title = \"Road vs Gravel Bike Classifier\"\n",
    "description = \"Since for a human it's sometimes almost impossible to distuingish the two, let's see if an AI is better at telling them apart!\"\n",
    "examples = ['gravelbike.jpeg', 'roadbike.jpeg']\n",
    "interpretation='default'\n",
    "\n",
    "\n",
    "gr.Interface(fn=predict, inputs=image, outputs=outputs, title=title, description=description, examples=examples).launch(inline=False)"
   ]
  },
  {
   "cell_type": "code",
   "execution_count": 15,
   "id": "74666090-fd00-4edc-b415-6032c4dd67cf",
   "metadata": {},
   "outputs": [],
   "source": [
    "import nbdev\n",
    "nbdev.export.nb_export('01.ipynb', 'app')"
   ]
  },
  {
   "cell_type": "markdown",
   "id": "470206df-8dda-417d-9571-afe3fd16cc34",
   "metadata": {},
   "source": [
    "Also, Create a requirements.txt file\n",
    "\n",
    "Next download everything to local \n",
    "\n",
    "Then make sure git lfs is installed and then push everything to Huggingface\n",
    "\n",
    "results: https://huggingface.co/spaces/lucasvw/road_or_gravel"
   ]
  },
  {
   "cell_type": "code",
   "execution_count": null,
   "id": "f45066ab-fe5d-43ce-b47f-2847783101b4",
   "metadata": {},
   "outputs": [],
   "source": []
  }
 ],
 "metadata": {
  "kernelspec": {
   "display_name": "Python 3 (ipykernel)",
   "language": "python",
   "name": "python3"
  },
  "language_info": {
   "codemirror_mode": {
    "name": "ipython",
    "version": 3
   },
   "file_extension": ".py",
   "mimetype": "text/x-python",
   "name": "python",
   "nbconvert_exporter": "python",
   "pygments_lexer": "ipython3",
   "version": "3.9.13"
  }
 },
 "nbformat": 4,
 "nbformat_minor": 5
}
